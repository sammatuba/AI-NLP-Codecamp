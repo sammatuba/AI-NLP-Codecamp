{
  "nbformat": 4,
  "nbformat_minor": 0,
  "metadata": {
    "colab": {
      "name": "Advanced Text Preprocessing.ipynb",
      "version": "0.3.2",
      "provenance": [],
      "collapsed_sections": [],
      "include_colab_link": true
    },
    "kernelspec": {
      "name": "python3",
      "display_name": "Python 3"
    },
    "accelerator": "GPU"
  },
  "cells": [
    {
      "cell_type": "markdown",
      "metadata": {
        "id": "view-in-github",
        "colab_type": "text"
      },
      "source": [
        "<a href=\"https://colab.research.google.com/github/sammatuba/AI-NLP-Codecamp/blob/master/Advanced_Text_Preprocessing.ipynb\" target=\"_parent\"><img src=\"https://colab.research.google.com/assets/colab-badge.svg\" alt=\"Open In Colab\"/></a>"
      ]
    },
    {
      "cell_type": "code",
      "metadata": {
        "id": "T3Zq204-0-EK",
        "colab_type": "code",
        "colab": {}
      },
      "source": [
        "import re"
      ],
      "execution_count": 0,
      "outputs": []
    },
    {
      "cell_type": "code",
      "metadata": {
        "id": "LirAifjt1D1s",
        "colab_type": "code",
        "colab": {}
      },
      "source": [
        "# N-gram\n",
        "\n",
        "def generate_ngrams(text, n):\n",
        "    # Convert to lowercases\n",
        "    doc = text.lower()\n",
        "    \n",
        "    # Replace all none alphanumeric characters with spaces\n",
        "    doc = re.sub(r'[^a-zA-Z0-9\\s]', ' ', doc)\n",
        "    \n",
        "    # Break sentence in the token, remove empty tokens\n",
        "    tokens = [token for token in doc.split(\" \") if token != \"\"]\n",
        "    \n",
        "    # Use the zip function to help us generate n-grams\n",
        "    ngrams = zip(*[tokens[i:] for i in range(n)])\n",
        "    \n",
        "    # Concatentate the tokens into ngrams and return\n",
        "    return [\" \".join(ngram) for ngram in ngrams]"
      ],
      "execution_count": 0,
      "outputs": []
    },
    {
      "cell_type": "code",
      "metadata": {
        "id": "oXzJA6k21eQ6",
        "colab_type": "code",
        "colab": {}
      },
      "source": [
        "sample_text = \"\"\"He said thank you. He said bye as he walked through the door. He went to San Diego. San Diego has nice weather. It is raining in San Francisco.\"\"\""
      ],
      "execution_count": 0,
      "outputs": []
    },
    {
      "cell_type": "code",
      "metadata": {
        "id": "CaSP6OHW1stF",
        "colab_type": "code",
        "outputId": "b5e7666c-f698-4753-cd22-c26048a97df6",
        "colab": {
          "base_uri": "https://localhost:8080/",
          "height": 514
        }
      },
      "source": [
        "generate_ngrams(sample_text, n=3)"
      ],
      "execution_count": 6,
      "outputs": [
        {
          "output_type": "execute_result",
          "data": {
            "text/plain": [
              "['he said',\n",
              " 'said thank',\n",
              " 'thank you',\n",
              " 'you he',\n",
              " 'he said',\n",
              " 'said bye',\n",
              " 'bye as',\n",
              " 'as he',\n",
              " 'he walked',\n",
              " 'walked through',\n",
              " 'through the',\n",
              " 'the door',\n",
              " 'door he',\n",
              " 'he went',\n",
              " 'went to',\n",
              " 'to san',\n",
              " 'san diego',\n",
              " 'diego san',\n",
              " 'san diego',\n",
              " 'diego has',\n",
              " 'has nice',\n",
              " 'nice weather',\n",
              " 'weather it',\n",
              " 'it is',\n",
              " 'is raining',\n",
              " 'raining in',\n",
              " 'in san',\n",
              " 'san francisco']"
            ]
          },
          "metadata": {
            "tags": []
          },
          "execution_count": 6
        }
      ]
    },
    {
      "cell_type": "code",
      "metadata": {
        "id": "btTk_Knw1vYC",
        "colab_type": "code",
        "colab": {}
      },
      "source": [
        "# TF/IDF/TF-IDF\n",
        "\n",
        "import math\n",
        "import re\n",
        "import statistics\n",
        "\n",
        "import nltk\n",
        "from nltk.tokenize import word_tokenize, sent_tokenize\n",
        "from nltk.corpus import stopwords"
      ],
      "execution_count": 0,
      "outputs": []
    },
    {
      "cell_type": "code",
      "metadata": {
        "id": "g21rW_EFSdh7",
        "colab_type": "code",
        "outputId": "350442d1-0496-45f8-b955-59bbd3f2639f",
        "colab": {
          "base_uri": "https://localhost:8080/",
          "height": 105
        }
      },
      "source": [
        "nltk.download('stopwords')\n",
        "nltk.download('punkt')"
      ],
      "execution_count": 9,
      "outputs": [
        {
          "output_type": "stream",
          "text": [
            "[nltk_data] Downloading package stopwords to /root/nltk_data...\n",
            "[nltk_data]   Unzipping corpora/stopwords.zip.\n",
            "[nltk_data] Downloading package punkt to /root/nltk_data...\n",
            "[nltk_data]   Unzipping tokenizers/punkt.zip.\n"
          ],
          "name": "stdout"
        },
        {
          "output_type": "execute_result",
          "data": {
            "text/plain": [
              "True"
            ]
          },
          "metadata": {
            "tags": []
          },
          "execution_count": 9
        }
      ]
    },
    {
      "cell_type": "code",
      "metadata": {
        "id": "P_H33gtESUqC",
        "colab_type": "code",
        "colab": {}
      },
      "source": [
        "def clean_text(document):\n",
        "    \"\"\"\n",
        "    This function removes all unnecessary symbols and whitespaces and returns a\n",
        "    clean document text\n",
        "    \"\"\"\n",
        "    document = document.replace(\"\\n\", \" \")\n",
        "    document = document.replace(\"“\", \"\\\"\")\n",
        "    document = document.replace(\"”\", \"\\\"\")\n",
        "    document = re.sub(\"[^\\w\\s]\", \"\", document)\n",
        "    document = re.sub(\"\\s+\", \" \", document)\n",
        "    document = document.strip()\n",
        "    \n",
        "    return document\n",
        "\n",
        "def clean_sentences(document):\n",
        "    \"\"\"\n",
        "    This function tokenizes the document into sentences and returns the clean\n",
        "    sentences in an array\n",
        "    \"\"\"\n",
        "    text_sentences = sent_tokenize(document)\n",
        "    clean_text_sentences = [clean_text(sentence) for sentence in text_sentences]\n",
        "    \n",
        "    return clean_text_sentences"
      ],
      "execution_count": 0,
      "outputs": []
    },
    {
      "cell_type": "code",
      "metadata": {
        "id": "ukclFG7BOsQn",
        "colab_type": "code",
        "colab": {}
      },
      "source": [
        "def count_words(sentence):\n",
        "    \"\"\"\n",
        "    This function returns the count of words in a sentence for TF/IDF/TF-IDF\n",
        "    computation\n",
        "    \"\"\"\n",
        "    count = 0\n",
        "    words = word_tokenize(sentence)\n",
        "    \n",
        "    for word in words:\n",
        "        count += 1\n",
        "    \n",
        "    return count\n",
        "\n",
        "\n",
        "def create_doc_info(clean_sentences):\n",
        "    \"\"\"\n",
        "    This function creates a dictionary of each sentence having their id and\n",
        "    word count\n",
        "    \"\"\"\n",
        "    doc_info = []\n",
        "    i = 0\n",
        "    \n",
        "    for sentence in clean_sentences:\n",
        "        i += 1\n",
        "        count = count_words(sentence)\n",
        "        doc_dict = {\"doc_id\": i, \"doc_length\": count}\n",
        "        doc_info.append(doc_dict)\n",
        "        \n",
        "    return doc_info\n",
        "\n",
        "\n",
        "def create_freq_dist(clean_sentences):\n",
        "    \"\"\"\n",
        "    This function creates a dictionary of each sentence and their word\n",
        "    frequency distributions\n",
        "    \"\"\"\n",
        "    i = 0\n",
        "    freq_dict_list = []\n",
        "    \n",
        "    for sentence in clean_sentences:\n",
        "        i += 1\n",
        "        freq_dict = {}\n",
        "        words = word_tokenize(sentence)\n",
        "        \n",
        "        for word in words:\n",
        "            word = word.lower()\n",
        "            if word in freq_dict:\n",
        "                freq_dict[word] += 1\n",
        "            else:\n",
        "                freq_dict[word] = 1\n",
        "            doc_dict = {\"doc_id\": i, \"freq_dict\": freq_dict}\n",
        "            \n",
        "        freq_dict_list.append(doc_dict)\n",
        "        \n",
        "    return freq_dict_list"
      ],
      "execution_count": 0,
      "outputs": []
    },
    {
      "cell_type": "code",
      "metadata": {
        "id": "C-L1DcmQQvkT",
        "colab_type": "code",
        "colab": {}
      },
      "source": [
        "def compute_tf(doc_info, freq_dict_list):\n",
        "    \"\"\"\n",
        "    This function manually computes the TF values of each sentence\n",
        "    \"\"\"\n",
        "    tf_scores = []\n",
        "    \n",
        "    for temp_dict in freq_dict_list:\n",
        "        doc_id = temp_dict[\"doc_id\"]\n",
        "        \n",
        "        for k in temp_dict['freq_dict']:\n",
        "            tf_score = temp_dict[\"freq_dict\"][k] / doc_info[doc_id - 1][\"doc_length\"]\n",
        "            doc_dict = {\"doc_id\": doc_id, \"tf_score\": tf_score, \"key\": k}\n",
        "            \n",
        "            tf_scores.append(doc_dict)\n",
        "        \n",
        "    return tf_scores\n",
        "\n",
        "\n",
        "def compute_idf(doc_info, freq_dict_list):\n",
        "    \"\"\"\n",
        "    This function manually computes the IDF values of each sentence\n",
        "    \"\"\"\n",
        "    idf_scores = []\n",
        "    counter = 0\n",
        "    \n",
        "    for temp_dict in freq_dict_list:\n",
        "        counter += 1\n",
        "        \n",
        "        for k in temp_dict[\"freq_dict\"].keys():\n",
        "            count = sum([k in temp[\"freq_dict\"] for temp in freq_dict_list])\n",
        "            idf_score = math.log(len(doc_info) / count)\n",
        "            doc_dict = {\"doc_id\": counter, \"idf_score\": idf_score, \"key\": k}\n",
        "            \n",
        "            idf_scores.append(doc_dict)\n",
        "            \n",
        "    return idf_scores\n",
        "\n",
        "\n",
        "def compute_tfidf(tf_scores, idf_scores):\n",
        "    \"\"\"\n",
        "    This function manually computes the TF-IDF values of each sentence\n",
        "    \"\"\"\n",
        "    tfidf_scores = []\n",
        "    \n",
        "    for idf in idf_scores:\n",
        "        for tf in tf_scores:\n",
        "            if idf[\"key\"] == tf[\"key\"] and idf[\"doc_id\"] == tf[\"doc_id\"]:\n",
        "                doc_dict = {\"doc_id\": idf[\"doc_id\"],\n",
        "                            \"tfidf_score\": idf[\"idf_score\"]*tf[\"tf_score\"],\n",
        "                            \"key\": tf[\"key\"]}\n",
        "                \n",
        "        tfidf_scores.append(doc_dict)\n",
        "        \n",
        "    return tfidf_scores"
      ],
      "execution_count": 0,
      "outputs": []
    },
    {
      "cell_type": "code",
      "metadata": {
        "id": "vaBpZw4bQzdU",
        "colab_type": "code",
        "colab": {}
      },
      "source": [
        "document = \"\"\"He said thank you. He said bye as he walked through the door. He \n",
        "went to San Diego. San Diego has nice weather. It is raining in San \n",
        "Francisco.\"\"\""
      ],
      "execution_count": 0,
      "outputs": []
    },
    {
      "cell_type": "code",
      "metadata": {
        "id": "kyxw_WVVSIup",
        "colab_type": "code",
        "colab": {
          "base_uri": "https://localhost:8080/",
          "height": 34
        },
        "outputId": "98afbd17-440a-4a54-8150-cdfed667c55b"
      },
      "source": [
        "clean_document = clean_sentences(document)\n",
        "print(clean_document)"
      ],
      "execution_count": 15,
      "outputs": [
        {
          "output_type": "stream",
          "text": [
            "['He said thank you', 'He said bye as he walked through the door', 'He went to San Diego', 'San Diego has nice weather', 'It is raining in San Francisco']\n"
          ],
          "name": "stdout"
        }
      ]
    },
    {
      "cell_type": "code",
      "metadata": {
        "id": "WGTNPG0gSPv1",
        "colab_type": "code",
        "colab": {
          "base_uri": "https://localhost:8080/",
          "height": 72
        },
        "outputId": "0e208563-cd77-451d-c9d1-a826720d2e3f"
      },
      "source": [
        "doc_info = create_doc_info(clean_document)\n",
        "freq_dict_list = create_freq_dist(clean_document)\n",
        "\n",
        "print(doc_info)\n",
        "print(freq_dict_list)"
      ],
      "execution_count": 16,
      "outputs": [
        {
          "output_type": "stream",
          "text": [
            "[{'doc_id': 1, 'doc_length': 4}, {'doc_id': 2, 'doc_length': 9}, {'doc_id': 3, 'doc_length': 5}, {'doc_id': 4, 'doc_length': 5}, {'doc_id': 5, 'doc_length': 6}]\n",
            "[{'doc_id': 1, 'freq_dict': {'he': 1, 'said': 1, 'thank': 1, 'you': 1}}, {'doc_id': 2, 'freq_dict': {'he': 2, 'said': 1, 'bye': 1, 'as': 1, 'walked': 1, 'through': 1, 'the': 1, 'door': 1}}, {'doc_id': 3, 'freq_dict': {'he': 1, 'went': 1, 'to': 1, 'san': 1, 'diego': 1}}, {'doc_id': 4, 'freq_dict': {'san': 1, 'diego': 1, 'has': 1, 'nice': 1, 'weather': 1}}, {'doc_id': 5, 'freq_dict': {'it': 1, 'is': 1, 'raining': 1, 'in': 1, 'san': 1, 'francisco': 1}}]\n"
          ],
          "name": "stdout"
        }
      ]
    },
    {
      "cell_type": "code",
      "metadata": {
        "id": "NlnLeczaSsY-",
        "colab_type": "code",
        "colab": {}
      },
      "source": [
        "tf_scores = compute_tf(doc_info, freq_dict_list)"
      ],
      "execution_count": 0,
      "outputs": []
    },
    {
      "cell_type": "code",
      "metadata": {
        "id": "kU8LH8zfSvK7",
        "colab_type": "code",
        "colab": {}
      },
      "source": [
        "idf_scores = compute_idf(doc_info, freq_dict_list)"
      ],
      "execution_count": 0,
      "outputs": []
    },
    {
      "cell_type": "code",
      "metadata": {
        "id": "eLeGLMiISvw0",
        "colab_type": "code",
        "colab": {}
      },
      "source": [
        "tfidf_scores = compute_tfidf(tf_scores, idf_scores)"
      ],
      "execution_count": 0,
      "outputs": []
    },
    {
      "cell_type": "code",
      "metadata": {
        "id": "CZeiqRjjSxnO",
        "colab_type": "code",
        "outputId": "068b338f-925e-4fec-ebc7-71ec957b8054",
        "colab": {
          "base_uri": "https://localhost:8080/",
          "height": 514
        }
      },
      "source": [
        "tf_scores"
      ],
      "execution_count": 21,
      "outputs": [
        {
          "output_type": "execute_result",
          "data": {
            "text/plain": [
              "[{'doc_id': 1, 'key': 'he', 'tf_score': 0.25},\n",
              " {'doc_id': 1, 'key': 'said', 'tf_score': 0.25},\n",
              " {'doc_id': 1, 'key': 'thank', 'tf_score': 0.25},\n",
              " {'doc_id': 1, 'key': 'you', 'tf_score': 0.25},\n",
              " {'doc_id': 2, 'key': 'he', 'tf_score': 0.2222222222222222},\n",
              " {'doc_id': 2, 'key': 'said', 'tf_score': 0.1111111111111111},\n",
              " {'doc_id': 2, 'key': 'bye', 'tf_score': 0.1111111111111111},\n",
              " {'doc_id': 2, 'key': 'as', 'tf_score': 0.1111111111111111},\n",
              " {'doc_id': 2, 'key': 'walked', 'tf_score': 0.1111111111111111},\n",
              " {'doc_id': 2, 'key': 'through', 'tf_score': 0.1111111111111111},\n",
              " {'doc_id': 2, 'key': 'the', 'tf_score': 0.1111111111111111},\n",
              " {'doc_id': 2, 'key': 'door', 'tf_score': 0.1111111111111111},\n",
              " {'doc_id': 3, 'key': 'he', 'tf_score': 0.2},\n",
              " {'doc_id': 3, 'key': 'went', 'tf_score': 0.2},\n",
              " {'doc_id': 3, 'key': 'to', 'tf_score': 0.2},\n",
              " {'doc_id': 3, 'key': 'san', 'tf_score': 0.2},\n",
              " {'doc_id': 3, 'key': 'diego', 'tf_score': 0.2},\n",
              " {'doc_id': 4, 'key': 'san', 'tf_score': 0.2},\n",
              " {'doc_id': 4, 'key': 'diego', 'tf_score': 0.2},\n",
              " {'doc_id': 4, 'key': 'has', 'tf_score': 0.2},\n",
              " {'doc_id': 4, 'key': 'nice', 'tf_score': 0.2},\n",
              " {'doc_id': 4, 'key': 'weather', 'tf_score': 0.2},\n",
              " {'doc_id': 5, 'key': 'it', 'tf_score': 0.16666666666666666},\n",
              " {'doc_id': 5, 'key': 'is', 'tf_score': 0.16666666666666666},\n",
              " {'doc_id': 5, 'key': 'raining', 'tf_score': 0.16666666666666666},\n",
              " {'doc_id': 5, 'key': 'in', 'tf_score': 0.16666666666666666},\n",
              " {'doc_id': 5, 'key': 'san', 'tf_score': 0.16666666666666666},\n",
              " {'doc_id': 5, 'key': 'francisco', 'tf_score': 0.16666666666666666}]"
            ]
          },
          "metadata": {
            "tags": []
          },
          "execution_count": 21
        }
      ]
    },
    {
      "cell_type": "code",
      "metadata": {
        "id": "OZ7jFUtzS69N",
        "colab_type": "code",
        "outputId": "d2f48c6b-f72d-47fd-e627-453f3eb8abcb",
        "colab": {
          "base_uri": "https://localhost:8080/",
          "height": 514
        }
      },
      "source": [
        "idf_scores"
      ],
      "execution_count": 22,
      "outputs": [
        {
          "output_type": "execute_result",
          "data": {
            "text/plain": [
              "[{'doc_id': 1, 'idf_score': 0.5108256237659907, 'key': 'he'},\n",
              " {'doc_id': 1, 'idf_score': 0.9162907318741551, 'key': 'said'},\n",
              " {'doc_id': 1, 'idf_score': 1.6094379124341003, 'key': 'thank'},\n",
              " {'doc_id': 1, 'idf_score': 1.6094379124341003, 'key': 'you'},\n",
              " {'doc_id': 2, 'idf_score': 0.5108256237659907, 'key': 'he'},\n",
              " {'doc_id': 2, 'idf_score': 0.9162907318741551, 'key': 'said'},\n",
              " {'doc_id': 2, 'idf_score': 1.6094379124341003, 'key': 'bye'},\n",
              " {'doc_id': 2, 'idf_score': 1.6094379124341003, 'key': 'as'},\n",
              " {'doc_id': 2, 'idf_score': 1.6094379124341003, 'key': 'walked'},\n",
              " {'doc_id': 2, 'idf_score': 1.6094379124341003, 'key': 'through'},\n",
              " {'doc_id': 2, 'idf_score': 1.6094379124341003, 'key': 'the'},\n",
              " {'doc_id': 2, 'idf_score': 1.6094379124341003, 'key': 'door'},\n",
              " {'doc_id': 3, 'idf_score': 0.5108256237659907, 'key': 'he'},\n",
              " {'doc_id': 3, 'idf_score': 1.6094379124341003, 'key': 'went'},\n",
              " {'doc_id': 3, 'idf_score': 1.6094379124341003, 'key': 'to'},\n",
              " {'doc_id': 3, 'idf_score': 0.5108256237659907, 'key': 'san'},\n",
              " {'doc_id': 3, 'idf_score': 0.9162907318741551, 'key': 'diego'},\n",
              " {'doc_id': 4, 'idf_score': 0.5108256237659907, 'key': 'san'},\n",
              " {'doc_id': 4, 'idf_score': 0.9162907318741551, 'key': 'diego'},\n",
              " {'doc_id': 4, 'idf_score': 1.6094379124341003, 'key': 'has'},\n",
              " {'doc_id': 4, 'idf_score': 1.6094379124341003, 'key': 'nice'},\n",
              " {'doc_id': 4, 'idf_score': 1.6094379124341003, 'key': 'weather'},\n",
              " {'doc_id': 5, 'idf_score': 1.6094379124341003, 'key': 'it'},\n",
              " {'doc_id': 5, 'idf_score': 1.6094379124341003, 'key': 'is'},\n",
              " {'doc_id': 5, 'idf_score': 1.6094379124341003, 'key': 'raining'},\n",
              " {'doc_id': 5, 'idf_score': 1.6094379124341003, 'key': 'in'},\n",
              " {'doc_id': 5, 'idf_score': 0.5108256237659907, 'key': 'san'},\n",
              " {'doc_id': 5, 'idf_score': 1.6094379124341003, 'key': 'francisco'}]"
            ]
          },
          "metadata": {
            "tags": []
          },
          "execution_count": 22
        }
      ]
    },
    {
      "cell_type": "code",
      "metadata": {
        "id": "zQFEFUD9S8eI",
        "colab_type": "code",
        "outputId": "9f2d9ccb-85d3-48ea-f964-d8a0590a9d5a",
        "colab": {
          "base_uri": "https://localhost:8080/",
          "height": 514
        }
      },
      "source": [
        "tfidf_scores"
      ],
      "execution_count": 23,
      "outputs": [
        {
          "output_type": "execute_result",
          "data": {
            "text/plain": [
              "[{'doc_id': 1, 'key': 'he', 'tfidf_score': 0.12770640594149768},\n",
              " {'doc_id': 1, 'key': 'said', 'tfidf_score': 0.22907268296853878},\n",
              " {'doc_id': 1, 'key': 'thank', 'tfidf_score': 0.40235947810852507},\n",
              " {'doc_id': 1, 'key': 'you', 'tfidf_score': 0.40235947810852507},\n",
              " {'doc_id': 2, 'key': 'he', 'tfidf_score': 0.11351680528133126},\n",
              " {'doc_id': 2, 'key': 'said', 'tfidf_score': 0.10181008131935056},\n",
              " {'doc_id': 2, 'key': 'bye', 'tfidf_score': 0.17882643471490003},\n",
              " {'doc_id': 2, 'key': 'as', 'tfidf_score': 0.17882643471490003},\n",
              " {'doc_id': 2, 'key': 'walked', 'tfidf_score': 0.17882643471490003},\n",
              " {'doc_id': 2, 'key': 'through', 'tfidf_score': 0.17882643471490003},\n",
              " {'doc_id': 2, 'key': 'the', 'tfidf_score': 0.17882643471490003},\n",
              " {'doc_id': 2, 'key': 'door', 'tfidf_score': 0.17882643471490003},\n",
              " {'doc_id': 3, 'key': 'he', 'tfidf_score': 0.10216512475319815},\n",
              " {'doc_id': 3, 'key': 'went', 'tfidf_score': 0.3218875824868201},\n",
              " {'doc_id': 3, 'key': 'to', 'tfidf_score': 0.3218875824868201},\n",
              " {'doc_id': 3, 'key': 'san', 'tfidf_score': 0.10216512475319815},\n",
              " {'doc_id': 3, 'key': 'diego', 'tfidf_score': 0.18325814637483104},\n",
              " {'doc_id': 4, 'key': 'san', 'tfidf_score': 0.10216512475319815},\n",
              " {'doc_id': 4, 'key': 'diego', 'tfidf_score': 0.18325814637483104},\n",
              " {'doc_id': 4, 'key': 'has', 'tfidf_score': 0.3218875824868201},\n",
              " {'doc_id': 4, 'key': 'nice', 'tfidf_score': 0.3218875824868201},\n",
              " {'doc_id': 4, 'key': 'weather', 'tfidf_score': 0.3218875824868201},\n",
              " {'doc_id': 5, 'key': 'it', 'tfidf_score': 0.26823965207235},\n",
              " {'doc_id': 5, 'key': 'is', 'tfidf_score': 0.26823965207235},\n",
              " {'doc_id': 5, 'key': 'raining', 'tfidf_score': 0.26823965207235},\n",
              " {'doc_id': 5, 'key': 'in', 'tfidf_score': 0.26823965207235},\n",
              " {'doc_id': 5, 'key': 'san', 'tfidf_score': 0.08513760396099845},\n",
              " {'doc_id': 5, 'key': 'francisco', 'tfidf_score': 0.26823965207235}]"
            ]
          },
          "metadata": {
            "tags": []
          },
          "execution_count": 23
        }
      ]
    },
    {
      "cell_type": "code",
      "metadata": {
        "id": "6cN2-HnOTIIu",
        "colab_type": "code",
        "colab": {}
      },
      "source": [
        "# Word Embeddings\n",
        "\n",
        "import spacy"
      ],
      "execution_count": 0,
      "outputs": []
    },
    {
      "cell_type": "code",
      "metadata": {
        "id": "hMcTHlp4UExb",
        "colab_type": "code",
        "outputId": "35a3096d-e7c8-4805-9d9f-dc194cfa91e5",
        "colab": {
          "base_uri": "https://localhost:8080/",
          "height": 52
        }
      },
      "source": [
        "spacy.cli.download(\"en_core_web_md\")\n",
        "\n",
        "# or glove model"
      ],
      "execution_count": 27,
      "outputs": [
        {
          "output_type": "stream",
          "text": [
            "\u001b[38;5;2m✔ Download and installation successful\u001b[0m\n",
            "You can now load the model via spacy.load('en_core_web_md')\n"
          ],
          "name": "stdout"
        }
      ]
    },
    {
      "cell_type": "code",
      "metadata": {
        "id": "4cDbWa19UOO_",
        "colab_type": "code",
        "colab": {
          "base_uri": "https://localhost:8080/",
          "height": 316
        },
        "outputId": "f8ac6926-357b-4380-ada4-24d8abfa4863"
      },
      "source": [
        "# Load the spacy model that you have installed\n",
        "nlp = spacy.load('en_core_web_md')"
      ],
      "execution_count": 28,
      "outputs": [
        {
          "output_type": "error",
          "ename": "OSError",
          "evalue": "ignored",
          "traceback": [
            "\u001b[0;31m---------------------------------------------------------------------------\u001b[0m",
            "\u001b[0;31mOSError\u001b[0m                                   Traceback (most recent call last)",
            "\u001b[0;32m<ipython-input-28-614d6de0ab0f>\u001b[0m in \u001b[0;36m<module>\u001b[0;34m()\u001b[0m\n\u001b[0;32m----> 1\u001b[0;31m \u001b[0mnlp\u001b[0m \u001b[0;34m=\u001b[0m \u001b[0mspacy\u001b[0m\u001b[0;34m.\u001b[0m\u001b[0mload\u001b[0m\u001b[0;34m(\u001b[0m\u001b[0;34m'en_core_web_md'\u001b[0m\u001b[0;34m)\u001b[0m\u001b[0;34m\u001b[0m\u001b[0;34m\u001b[0m\u001b[0m\n\u001b[0m",
            "\u001b[0;32m/usr/local/lib/python3.6/dist-packages/spacy/__init__.py\u001b[0m in \u001b[0;36mload\u001b[0;34m(name, **overrides)\u001b[0m\n\u001b[1;32m     25\u001b[0m     \u001b[0;32mif\u001b[0m \u001b[0mdepr_path\u001b[0m \u001b[0;32mnot\u001b[0m \u001b[0;32min\u001b[0m \u001b[0;34m(\u001b[0m\u001b[0;32mTrue\u001b[0m\u001b[0;34m,\u001b[0m \u001b[0;32mFalse\u001b[0m\u001b[0;34m,\u001b[0m \u001b[0;32mNone\u001b[0m\u001b[0;34m)\u001b[0m\u001b[0;34m:\u001b[0m\u001b[0;34m\u001b[0m\u001b[0;34m\u001b[0m\u001b[0m\n\u001b[1;32m     26\u001b[0m         \u001b[0mdeprecation_warning\u001b[0m\u001b[0;34m(\u001b[0m\u001b[0mWarnings\u001b[0m\u001b[0;34m.\u001b[0m\u001b[0mW001\u001b[0m\u001b[0;34m.\u001b[0m\u001b[0mformat\u001b[0m\u001b[0;34m(\u001b[0m\u001b[0mpath\u001b[0m\u001b[0;34m=\u001b[0m\u001b[0mdepr_path\u001b[0m\u001b[0;34m)\u001b[0m\u001b[0;34m)\u001b[0m\u001b[0;34m\u001b[0m\u001b[0;34m\u001b[0m\u001b[0m\n\u001b[0;32m---> 27\u001b[0;31m     \u001b[0;32mreturn\u001b[0m \u001b[0mutil\u001b[0m\u001b[0;34m.\u001b[0m\u001b[0mload_model\u001b[0m\u001b[0;34m(\u001b[0m\u001b[0mname\u001b[0m\u001b[0;34m,\u001b[0m \u001b[0;34m**\u001b[0m\u001b[0moverrides\u001b[0m\u001b[0;34m)\u001b[0m\u001b[0;34m\u001b[0m\u001b[0;34m\u001b[0m\u001b[0m\n\u001b[0m\u001b[1;32m     28\u001b[0m \u001b[0;34m\u001b[0m\u001b[0m\n\u001b[1;32m     29\u001b[0m \u001b[0;34m\u001b[0m\u001b[0m\n",
            "\u001b[0;32m/usr/local/lib/python3.6/dist-packages/spacy/util.py\u001b[0m in \u001b[0;36mload_model\u001b[0;34m(name, **overrides)\u001b[0m\n\u001b[1;32m    134\u001b[0m     \u001b[0;32melif\u001b[0m \u001b[0mhasattr\u001b[0m\u001b[0;34m(\u001b[0m\u001b[0mname\u001b[0m\u001b[0;34m,\u001b[0m \u001b[0;34m\"exists\"\u001b[0m\u001b[0;34m)\u001b[0m\u001b[0;34m:\u001b[0m  \u001b[0;31m# Path or Path-like to model data\u001b[0m\u001b[0;34m\u001b[0m\u001b[0;34m\u001b[0m\u001b[0m\n\u001b[1;32m    135\u001b[0m         \u001b[0;32mreturn\u001b[0m \u001b[0mload_model_from_path\u001b[0m\u001b[0;34m(\u001b[0m\u001b[0mname\u001b[0m\u001b[0;34m,\u001b[0m \u001b[0;34m**\u001b[0m\u001b[0moverrides\u001b[0m\u001b[0;34m)\u001b[0m\u001b[0;34m\u001b[0m\u001b[0;34m\u001b[0m\u001b[0m\n\u001b[0;32m--> 136\u001b[0;31m     \u001b[0;32mraise\u001b[0m \u001b[0mIOError\u001b[0m\u001b[0;34m(\u001b[0m\u001b[0mErrors\u001b[0m\u001b[0;34m.\u001b[0m\u001b[0mE050\u001b[0m\u001b[0;34m.\u001b[0m\u001b[0mformat\u001b[0m\u001b[0;34m(\u001b[0m\u001b[0mname\u001b[0m\u001b[0;34m=\u001b[0m\u001b[0mname\u001b[0m\u001b[0;34m)\u001b[0m\u001b[0;34m)\u001b[0m\u001b[0;34m\u001b[0m\u001b[0;34m\u001b[0m\u001b[0m\n\u001b[0m\u001b[1;32m    137\u001b[0m \u001b[0;34m\u001b[0m\u001b[0m\n\u001b[1;32m    138\u001b[0m \u001b[0;34m\u001b[0m\u001b[0m\n",
            "\u001b[0;31mOSError\u001b[0m: [E050] Can't find model 'en_core_web_md'. It doesn't seem to be a shortcut link, a Python package or a valid path to a data directory."
          ]
        }
      ]
    },
    {
      "cell_type": "code",
      "metadata": {
        "id": "ZbPzVkIvWmmP",
        "colab_type": "code",
        "colab": {}
      },
      "source": [
        "# Process a sentence using the model\n",
        "doc = nlp(document)"
      ],
      "execution_count": 0,
      "outputs": []
    },
    {
      "cell_type": "code",
      "metadata": {
        "id": "BFu7D7mRVfZk",
        "colab_type": "code",
        "outputId": "6caee6d2-3dfe-421c-820f-b685278794be",
        "colab": {
          "base_uri": "https://localhost:8080/",
          "height": 68
        }
      },
      "source": [
        "print(doc)"
      ],
      "execution_count": 0,
      "outputs": [
        {
          "output_type": "stream",
          "text": [
            "He said thank you. He said bye as he walked through the door. He \n",
            "went to San Diego. San Diego has nice weather. It is raining in San \n",
            "Francisco.\n"
          ],
          "name": "stdout"
        }
      ]
    },
    {
      "cell_type": "code",
      "metadata": {
        "id": "gCS-Dr6hWbDu",
        "colab_type": "code",
        "outputId": "c260dfd0-e90b-4229-8d1e-1671d1ad19ef",
        "colab": {
          "base_uri": "https://localhost:8080/",
          "height": 867
        }
      },
      "source": [
        "print(doc[2].vector)"
      ],
      "execution_count": 0,
      "outputs": [
        {
          "output_type": "stream",
          "text": [
            "[-3.2633e-01  2.2670e-01 -6.0390e-01 -7.9733e-02 -3.1348e-01  3.3861e-01\n",
            "  1.6472e-01 -6.5467e-01 -1.3297e-01  2.4124e+00 -9.6755e-02  2.1780e-02\n",
            "  3.4751e-01 -5.4402e-02 -4.6641e-01 -2.2268e-01 -3.5988e-01  5.6444e-01\n",
            " -2.4593e-01  1.6560e-01  2.9555e-03 -1.2698e-01  8.6455e-02 -1.5530e-01\n",
            " -2.7800e-01  1.2190e-01 -9.8423e-02 -1.2733e-01  1.5435e-01 -7.2860e-02\n",
            "  2.6463e-01  1.4758e-01 -1.2689e-01  2.5180e-01 -3.9769e-01  9.9117e-03\n",
            " -3.3437e-01 -1.9860e-01 -1.9786e-01 -1.7713e-01  1.6869e-01  4.9406e-02\n",
            " -3.4811e-01 -1.3145e-01  2.4547e-01  4.8623e-01 -1.9794e-01  3.5635e-01\n",
            "  3.5622e-01 -2.7383e-01  6.9140e-02  1.0416e-01  3.0488e-01 -8.5464e-02\n",
            "  5.6392e-02 -1.4672e-01 -1.2502e-01  4.5234e-01 -5.8320e-01  2.7536e-01\n",
            " -7.0461e-01 -3.1403e-01 -6.8774e-01 -2.5076e-01  5.9797e-02 -2.6168e-01\n",
            " -8.3934e-02  2.0090e-01  5.3331e-01  2.0883e-01  3.0193e-01 -9.2298e-02\n",
            "  2.1038e-01  9.6246e-02  2.8174e-01  2.6589e-01  5.9218e-01 -9.7234e-02\n",
            " -2.7597e-01  3.3770e-01  1.1721e-01  6.7690e-01 -2.0141e-01  1.8511e-01\n",
            "  1.6051e-01 -8.1063e-01  4.9999e-01 -6.9957e-01  2.1250e-02  3.3659e-02\n",
            "  5.8723e-02  1.7239e-01 -1.8059e-01  6.2823e-01  3.3279e-01  6.9644e-02\n",
            " -3.2929e-01 -5.8885e-01 -2.3543e-01  1.7293e-01 -1.0153e-01 -4.7105e-01\n",
            "  7.8368e-05 -1.8971e-01  4.3303e-01  4.8078e-01  4.3148e-01 -4.6250e-01\n",
            " -2.1704e-01 -2.8948e-01 -6.0153e-02 -3.1228e-01  2.3044e-01  1.3261e-01\n",
            "  5.6311e-01 -9.8020e-02 -3.9225e-01  2.9150e-03  2.3234e-01  6.7480e-02\n",
            "  3.3540e-01 -2.3481e-01  2.9854e-01  1.7566e-01  3.4485e-01  9.4671e-02\n",
            "  6.2395e-02 -1.3980e-01  6.0892e-02  5.2455e-01 -1.3317e-01 -1.1012e-01\n",
            " -3.5921e-01 -3.9573e-01 -3.7667e-01  1.4507e-03 -2.3947e-01  6.2547e-02\n",
            "  2.2333e-01  1.0700e-03 -1.7618e+00  5.9873e-01 -2.3879e-01 -2.0853e-01\n",
            " -1.2146e-01 -3.0985e-01 -5.4194e-01  2.8055e-01 -7.4284e-01  1.3623e-01\n",
            " -5.4297e-01  3.7538e-01 -1.7545e-01 -1.0968e-01  1.4608e-01  3.1669e-01\n",
            "  4.3187e-01 -2.0503e-01 -8.4272e-02 -4.3610e-01  1.2047e-01  1.8008e-01\n",
            " -1.2865e-01  3.9452e-03  1.4920e-01 -3.1008e-02  1.5386e-01 -1.1282e-01\n",
            " -4.2135e-02  8.6403e-02 -3.2227e-01 -4.3809e-03  3.5216e-01 -2.1537e-01\n",
            "  1.7627e-01 -2.4695e-01 -2.7737e-01  1.9493e-01 -3.1702e-01  2.9534e-01\n",
            "  3.3426e-02 -3.6051e-01  1.6132e-01 -3.4540e-02  1.6805e-01 -5.4368e-01\n",
            " -1.0165e-01 -3.8429e-01 -1.1376e-01 -3.1183e-02  9.4396e-02 -7.2240e-02\n",
            " -1.5354e-01 -5.2722e-01  2.8606e-01  1.2150e-01  2.8711e-01 -5.3503e-01\n",
            "  5.4645e-01  2.2428e-01 -2.2788e-01 -2.0999e-01 -2.6774e-01 -2.0884e-01\n",
            "  5.6028e-01  1.6664e-01  1.9187e-01  4.4692e-01 -1.0002e-01 -1.5647e-01\n",
            "  1.9788e-02 -2.4665e-03  1.7973e-01  2.7820e-01  2.6563e-01  3.8872e-01\n",
            "  3.6311e-01 -6.8307e-01 -1.5783e-01  2.7727e-01 -4.6834e-01  8.5470e-02\n",
            "  1.9688e-01  7.5551e-01 -1.1659e-02  1.8955e-01 -1.5568e-01 -1.3142e-01\n",
            " -2.3478e-01  8.3426e-03 -2.2761e-01 -2.6896e-01 -9.8472e-01  1.8842e-01\n",
            " -1.4199e-02  7.5275e-02 -3.7113e-01  1.2002e-01 -2.5112e-02  7.1874e-02\n",
            "  7.2289e-02 -1.4765e-01  7.0986e-02  1.2596e-01  3.2254e-01  4.0853e-02\n",
            "  8.8566e-02 -2.0134e-01  8.3083e-02  3.6391e-01  3.5904e-01  1.5667e-01\n",
            " -6.4031e-01 -1.3673e-01 -8.4491e-03  1.2598e-01  3.0443e-02 -1.9483e-03\n",
            " -5.7685e-01  2.7241e-01 -1.4888e-01  1.3691e-02 -4.4747e-01  2.4725e-01\n",
            " -4.4220e-01 -2.0610e-01  4.3668e-01  7.4867e-01  2.2366e-01  3.8391e-01\n",
            " -2.7060e-01 -7.8400e-02 -3.9358e-01  1.4296e-01 -2.6939e-01  2.6086e-01\n",
            "  5.7550e-02 -4.2367e-01  1.9911e-01 -1.6575e-01 -3.5320e-01 -3.7287e-01\n",
            "  3.6687e-02 -9.4021e-02  1.6297e-01 -1.7651e-01  3.9534e-01 -2.9316e-01\n",
            "  1.1166e-01  3.6878e-01 -6.1028e-03  1.3510e-01 -1.3163e-01  5.6141e-02\n",
            "  6.3688e-01 -3.4764e-01  3.6764e-01  6.5347e-02 -5.4156e-01  4.5833e-01]\n"
          ],
          "name": "stdout"
        }
      ]
    },
    {
      "cell_type": "code",
      "metadata": {
        "id": "ZXHJK_VjWfMs",
        "colab_type": "code",
        "colab": {}
      },
      "source": [
        ""
      ],
      "execution_count": 0,
      "outputs": []
    }
  ]
}