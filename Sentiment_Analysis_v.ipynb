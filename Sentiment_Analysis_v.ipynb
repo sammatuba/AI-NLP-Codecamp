{
  "nbformat": 4,
  "nbformat_minor": 0,
  "metadata": {
    "colab": {
      "name": "Sentiment Analysis",
      "version": "0.3.2",
      "provenance": [],
      "collapsed_sections": [],
      "include_colab_link": true
    },
    "kernelspec": {
      "name": "python3",
      "display_name": "Python 3"
    }
  },
  "cells": [
    {
      "cell_type": "markdown",
      "metadata": {
        "id": "view-in-github",
        "colab_type": "text"
      },
      "source": [
        "<a href=\"https://colab.research.google.com/github/sammatuba/AI-NLP-Codecamp/blob/master/Sentiment_Analysis_v.ipynb\" target=\"_parent\"><img src=\"https://colab.research.google.com/assets/colab-badge.svg\" alt=\"Open In Colab\"/></a>"
      ]
    },
    {
      "cell_type": "code",
      "metadata": {
        "id": "yyV8RVCULzZc",
        "colab_type": "code",
        "colab": {}
      },
      "source": [
        "from nltk.tokenize import word_tokenize, sent_tokenize\n",
        "from nltk.classify import NaiveBayesClassifier\n",
        "from nltk.corpus import movie_reviews\n",
        "from nltk.corpus import stopwords\n",
        "\n",
        "import nltk\n",
        "import random\n",
        "\n"
      ],
      "execution_count": 0,
      "outputs": []
    },
    {
      "cell_type": "code",
      "metadata": {
        "id": "suY1_c9siawJ",
        "colab_type": "code",
        "colab": {}
      },
      "source": [
        ""
      ],
      "execution_count": 0,
      "outputs": []
    },
    {
      "cell_type": "code",
      "metadata": {
        "id": "McFZx-6Ria68",
        "colab_type": "code",
        "colab": {}
      },
      "source": [
        ""
      ],
      "execution_count": 0,
      "outputs": []
    },
    {
      "cell_type": "code",
      "metadata": {
        "id": "tcfm8eS8h7cY",
        "colab_type": "code",
        "outputId": "24a93b65-0109-45f5-c476-e9b73cd7821e",
        "colab": {
          "base_uri": "https://localhost:8080/",
          "height": 173
        }
      },
      "source": [
        "nltk.download('stopwords')\n",
        "nltk.download('movie_reviews')\n",
        "nltk.download('averaged_perceptron_tagger')\n",
        "\n"
      ],
      "execution_count": 0,
      "outputs": [
        {
          "output_type": "stream",
          "text": [
            "[nltk_data] Downloading package stopwords to /root/nltk_data...\n",
            "[nltk_data]   Package stopwords is already up-to-date!\n",
            "[nltk_data] Downloading package movie_reviews to /root/nltk_data...\n",
            "[nltk_data]   Package movie_reviews is already up-to-date!\n",
            "[nltk_data] Downloading package averaged_perceptron_tagger to\n",
            "[nltk_data]     /root/nltk_data...\n",
            "[nltk_data]   Package averaged_perceptron_tagger is already up-to-\n",
            "[nltk_data]       date!\n"
          ],
          "name": "stdout"
        },
        {
          "output_type": "execute_result",
          "data": {
            "text/plain": [
              "True"
            ]
          },
          "metadata": {
            "tags": []
          },
          "execution_count": 7
        }
      ]
    },
    {
      "cell_type": "code",
      "metadata": {
        "id": "zGXqZ2ngiZuV",
        "colab_type": "code",
        "colab": {}
      },
      "source": [
        "stopwords = stopwords.words(\"english\")"
      ],
      "execution_count": 0,
      "outputs": []
    },
    {
      "cell_type": "code",
      "metadata": {
        "id": "ipvG-UhziaWY",
        "colab_type": "code",
        "outputId": "e90768c2-ef12-49c5-88de-541e331dae71",
        "colab": {
          "base_uri": "https://localhost:8080/",
          "height": 35
        }
      },
      "source": [
        "print(movie_reviews.categories())"
      ],
      "execution_count": 0,
      "outputs": [
        {
          "output_type": "stream",
          "text": [
            "['neg', 'pos']\n"
          ],
          "name": "stdout"
        }
      ]
    },
    {
      "cell_type": "code",
      "metadata": {
        "id": "OWrb2rAAimRF",
        "colab_type": "code",
        "colab": {}
      },
      "source": [
        "reviews = []\n",
        "for label in movie_reviews.categories():\n",
        "  for revId in movie_reviews.fileids(label):\n",
        "    reviews.append((list(movie_reviews.words(revId)), label))"
      ],
      "execution_count": 0,
      "outputs": []
    },
    {
      "cell_type": "code",
      "metadata": {
        "id": "hOZPBAmHj6sq",
        "colab_type": "code",
        "colab": {}
      },
      "source": [
        "print(review[0])"
      ],
      "execution_count": 0,
      "outputs": []
    },
    {
      "cell_type": "code",
      "metadata": {
        "id": "oID-PH2nkPQQ",
        "colab_type": "code",
        "colab": {}
      },
      "source": [
        "allowed = ['N','J']\n",
        "allwords = []\n",
        "finalData = []\n",
        "\n",
        "for review in reviews:\n",
        "  text = review[0]\n",
        "  text_tags = nltk.pos_tag(text)\n",
        "  filteredText = []\n",
        "  for word in text_tags:\n",
        "    if word[1][0] in allowed and word[0].isalpha() and len(word[0]) > 1:\n",
        "      allwords.append(word[0].lower())\n",
        "      filteredText.append(word[0].lower())\n",
        "  finalData.append((filteredText, review[1]))"
      ],
      "execution_count": 0,
      "outputs": []
    },
    {
      "cell_type": "code",
      "metadata": {
        "id": "eWLtLzq3mDqr",
        "colab_type": "code",
        "colab": {}
      },
      "source": [
        "allwords = nltk.FreqDist(allwords)"
      ],
      "execution_count": 0,
      "outputs": []
    },
    {
      "cell_type": "code",
      "metadata": {
        "id": "k4SZr1ijmL3i",
        "colab_type": "code",
        "outputId": "74675664-5978-4dc2-8b6a-e78778461582",
        "colab": {
          "base_uri": "https://localhost:8080/",
          "height": 344
        }
      },
      "source": [
        "print(allwords.plot(10))"
      ],
      "execution_count": 0,
      "outputs": [
        {
          "output_type": "display_data",
          "data": {
            "image/png": "[encoded data removed]",
            "text/plain": [
              "<Figure size 432x288 with 1 Axes>"
            ]
          },
          "metadata": {
            "tags": []
          }
        },
        {
          "output_type": "stream",
          "text": [
            "None\n"
          ],
          "name": "stdout"
        }
      ]
    },
    {
      "cell_type": "code",
      "metadata": {
        "id": "18TomxhmnQmB",
        "colab_type": "code",
        "colab": {}
      },
      "source": [
        ""
      ],
      "execution_count": 0,
      "outputs": []
    },
    {
      "cell_type": "code",
      "metadata": {
        "id": "iynF5Lmznotk",
        "colab_type": "code",
        "colab": {}
      },
      "source": [
        ""
      ],
      "execution_count": 0,
      "outputs": []
    },
    {
      "cell_type": "code",
      "metadata": {
        "id": "Fqs7-r9Kmzkt",
        "colab_type": "code",
        "colab": {}
      },
      "source": [
        "wordFeatures = (list(allwords.keys()))[:2000]"
      ],
      "execution_count": 0,
      "outputs": []
    },
    {
      "cell_type": "code",
      "metadata": {
        "id": "OmfpYqTTnSp5",
        "colab_type": "code",
        "colab": {}
      },
      "source": [
        "def getVectors(wordFeatures, document):\n",
        "  features = {}\n",
        "  for w in wordFeatures:\n",
        "    features[w] = (w in document)\n",
        "    \n",
        "  return features"
      ],
      "execution_count": 0,
      "outputs": []
    },
    {
      "cell_type": "code",
      "metadata": {
        "id": "yQINAucNnrKm",
        "colab_type": "code",
        "colab": {}
      },
      "source": [
        "featuresets = [(getVectors(wordFeatures, rev), label) for (rev, label) in finalData]\n",
        "random.shuffle(featuresets)"
      ],
      "execution_count": 0,
      "outputs": []
    },
    {
      "cell_type": "code",
      "metadata": {
        "id": "sGIxWJAtozuu",
        "colab_type": "code",
        "colab": {}
      },
      "source": [
        ""
      ],
      "execution_count": 0,
      "outputs": []
    },
    {
      "cell_type": "code",
      "metadata": {
        "id": "7kyxpNOLopFU",
        "colab_type": "code",
        "outputId": "f017f5fc-359e-476b-a623-455399f06fb4",
        "colab": {
          "base_uri": "https://localhost:8080/",
          "height": 35
        }
      },
      "source": [
        "print(len(featuresets[0][0]))"
      ],
      "execution_count": 0,
      "outputs": [
        {
          "output_type": "stream",
          "text": [
            "2000\n"
          ],
          "name": "stdout"
        }
      ]
    },
    {
      "cell_type": "code",
      "metadata": {
        "id": "sY_XJFs_o1Uk",
        "colab_type": "code",
        "outputId": "f21e60ad-b078-48b1-bfd9-9dc149dc9a1c",
        "colab": {
          "base_uri": "https://localhost:8080/",
          "height": 55
        }
      },
      "source": [
        "print(featuresets[:1])"
      ],
      "execution_count": 0,
      "outputs": [
        {
          "output_type": "stream",
          "text": [
            "[({'plot': True, 'teen': False, 'couples': False, 'church': False, 'party': False, 'drink': False, 'drive': False, 'accident': False, 'guys': False, 'girlfriend': False, 'life': False, 'nightmares': False, 'deal': False, 'movie': True, 'critique': False, 'mind': False, 'fuck': False, 'generation': False, 'cool': False, 'idea': False, 'bad': False, 'package': False, 'review': False, 'films': True, 'mold': False, 'mess': False, 'head': False, 'such': False, 'highway': False, 'memento': False, 'good': False, 'ways': False, 'types': False, 'folks': False, 'snag': False, 'neat': False, 'concept': False, 'problems': False, 'main': False, 'problem': False, 'normal': True, 'fantasy': False, 'world': True, 'audience': True, 'member': False, 'dreams': False, 'characters': True, 'dead': False, 'others': False, 'strange': False, 'apparitions': False, 'disappearances': False, 'looooot': False, 'chase': False, 'scenes': False, 'tons': False, 'weird': False, 'things': False, 'most': True, 'don': True, 'film': True, 'same': True, 'clue': False, 'kind': False, 'while': False, 'biggest': False, 'big': False, 'secret': False, 'final': False, 'minutes': False, 'meantime': False, 'sad': True, 'part': False, 'arrow': False, 'dig': False, 'flicks': False, 'half': False, 'way': True, 'point': False, 'strangeness': False, 'little': True, 'bit': False, 'sense': False, 'make': False, 'more': False, 'entertaining': False, 'bottom': False, 'line': False, 'movies': False, 'sure': False, 'password': False, 'melissa': False, 'sagemiller': False, 'visions': False, 'plain': False, 'lazy': False, 'okay': False, 'people': True, 'different': False, 'further': False, 'insight': False, 'studio': False, 'director': True, 'pretty': False, 'decent': False, 'guess': False, 'suits': False, 'music': True, 'video': False, 'edge': False, 'actors': False, 'wes': False, 'bentley': False, 'exact': False, 'character': True, 'american': False, 'beauty': True, 'new': True, 'neighborhood': False, 'kudos': False, 'own': True, 'entire': True, 'unraveling': False, 'overall': False, 'doesn': False, 'stick': False, 'entertain': False, 'confusing': False, 'redundant': False, 'runtime': False, 'explanation': False, 'craziness': False, 'horror': False, 'slasher': False, 'flick': False, 'someone': False, 'genre': False, 'hot': False, 'kids': False, 'production': False, 'years': False, 'shelves': False, 'whatever': False, 'joblo': False, 'nightmare': False, 'elm': False, 'street': False, 'blair': False, 'witch': False, 'crow': False, 'salvation': False, 'stir': False, 'echoes': False, 'happy': False, 'bastard': False, 'quick': False, 'damn': False, 'bug': False, 'start': False, 'jamie': False, 'lee': False, 'curtis': False, 'baldwin': False, 'brother': False, 'time': True, 'story': True, 'crew': False, 'tugboat': False, 'deserted': False, 'russian': False, 'tech': False, 'ship': False, 'power': True, 'gore': False, 'few': False, 'action': False, 'sequences': False, 'virus': False, 'empty': False, 'flash': False, 'substance': False, 'middle': False, 'origin': False, 'pink': False, 'flashy': False, 'thing': False, 'mir': False, 'course': True, 'donald': False, 'sutherland': False, 'hey': False, 'robots': False, 'acting': False, 'below': False, 'average': False, 'likes': False, 'likely': False, 'kick': False, 'work': False, 'halloween': False, 'real': False, 'star': False, 'stan': False, 'winston': False, 'robot': False, 'design': False, 'schnazzy': False, 'cgi': False, 'occasional': False, 'shot': False, 'brain': False, 'body': False, 'parts': False, 'sunken': False, 'jaded': False, 'viewer': False, 'thankful': False, 'invention': False, 'timex': False, 'indiglo': False, 'watch': False, 'late': False, 'television': False, 'show': False, 'name': False, 'mod': False, 'squad': False, 'tale': False, 'reformed': False, 'criminals': False, 'employ': False, 'police': False, 'wrong': False, 'evidence': False, 'suspicion': False, 'ads': False, 'cuts': False, 'dane': False, 'nice': False, 'hair': False, 'cute': False, 'outfits': False, 'car': False, 'chases': False, 'stuff': False, 'like': False, 'sounds': False, 'first': False, 'fifteen': False, 'apparent': False, 'slick': False, 'complete': False, 'costumes': False, 'cross': False, 'hour': False, 'long': False, 'cop': False, 'span': False, 'single': False, 'clich': False, 'elements': False, 'everything': True, 've': False, 'nothing': False, 'spectacular': False, 'wooden': False, 'claire': False, 'danes': False, 'lines': False, 'only': True, 'unscathed': False, 'giovanni': False, 'ribisi': False, 'resident': False, 'crazy': False, 'man': True, 'worth': False, 'convoluted': False, 'screen': False, 'young': False, 'cast': False, 'clothes': False, 'hip': False, 'soundtrack': False, 'teenage': False, 'mindset': False, 'rating': False, 'content': False, 'juvenile': False, 'older': False, 'information': False, 'spoon': False, 'fed': False, 'hard': False, 'dialogue': False, 'predictable': False, 'heroes': False, 'jeopardy': False, 'll': False, 'nobody': False, 'remembers': False, 'questionable': False, 'wisdom': False, 'target': False, 'fact': False, 'number': False, 'memorable': False, 'shows': True, 'hand': False, 'finger': False, 'times': False, 'clear': False, 'indication': False, 'attempt': True, 'cash': False, 'spending': False, 'dollar': False, 'rash': False, 'awful': False, 'costs': False, 'quest': False, 'camelot': False, 'warner': False, 'bros': False, 'feature': False, 'length': False, 'clout': False, 'disney': False, 'cartoon': False, 'empire': False, 'mouse': False, 'reason': False, 'other': False, 'recent': True, 'challenger': False, 'throne': False, 'last': False, 'fall': True, 'promising': False, 'century': False, 'fox': False, 'anastasia': False, 'hercules': False, 'lively': False, 'colorful': False, 'palate': False, 'beat': False, 'best': False, 'piece': False, 'animation': False, 'year': False, 'contest': False, 'much': True, 'arrival': False, 'magic': False, 'kingdom': False, 'mediocre': False, 'pocahontas': False, 'isn': False, 'dull': False, 'adventures': False, 'free': False, 'kayley': False, 'jessalyn': False, 'gilsig': False, 'early': True, 'daughter': False, 'belated': False, 'knight': False, 'arthur': False, 'round': False, 'table': True, 'dream': False, 'father': False, 'footsteps': False, 'chance': False, 'evil': False, 'warlord': False, 'ruber': False, 'gary': False, 'oldman': False, 'ex': False, 'steals': False, 'magical': False, 'sword': False, 'excalibur': False, 'dangerous': False, 'forest': False, 'help': False, 'hunky': False, 'timberland': False, 'dweller': False, 'garrett': False, 'carey': False, 'elwes': False, 'dragon': False, 'eric': False, 'idle': False, 'rickles': False, 'able': True, 'medieval': False, 'sexist': False, 'fighter': False, 'side': False, 'pure': False, 'showmanship': False, 'essential': False, 'element': False, 'high': False, 'ranks': False, 'something': True, 'saturday': False, 'morning': False, 'subpar': False, 'forgettable': False, 'songs': False, 'computerized': False, 'footage': False, 'compare': False, 'angry': False, 'ogre': False, 'battle': False, 'hydra': False, 'case': False, 'none': True, 'interesting': False, 'race': False, 'bland': False, 'end': True, 'tie': False, 'comedy': False, 'shtick': False, 'cloying': False, 'least': False, 'signs': False, 'pulse': False, 'fans': False, 'tgif': False, 'jaleel': False, 'urkel': False, 'white': False, 'bronson': False, 'balki': False, 'pinchot': False, 'loss': False, 'enough': False, 'specific': False, 'voice': True, 'talent': False, 'enthusiastic': False, 'singers': False, 'musical': False, 'moments': False, 'seymour': False, 'celine': False, 'dion': False, 'children': True, 'bored': False, 'adults': False, 'grievous': False, 'error': False, 'lack': False, 'personality': False, 'synopsis': False, 'unstable': False, 'psychotherapy': False, 'saves': False, 'boy': False, 'fatal': False, 'love': True, 'mother': False, 'fledgling': False, 'restauranteur': False, 'woman': False, 'favor': False, 'pictures': False, 'comments': False, 'endless': True, 'string': False, 'spurned': False, 'psychos': False, 'revenge': False, 'type': False, 'stable': False, 'category': False, 'industry': False, 'theatrical': False, 'direct': False, 'proliferation': False, 'due': False, 'inexpensive': False, 'special': False, 'effects': False, 'stars': False, 'vehicles': False, 'nudity': False, 'night': False, 'cable': False, 'wavers': False, 'norm': False, 'respect': False, 'psycho': False, 'affair': False, 'contrary': False, 'lover': False, 'wife': True, 'husband': False, 'entry': False, 'dust': False, 'midnight': False, 'suspense': False, 'opening': False, 'credits': False, 'instance': False, 'serious': False, 'narrator': False, 'spouts': False, 'statistics': False, 'stalkers': False, 'ponders': False, 'men': True, 'snapshot': False, 'actor': False, 'jay': False, 'underwood': False, 'daryl': False, 'gleason': False, 'stalker': False, 'brooke': False, 'daniels': False, 'guesswork': False, 'stalked': False, 'proceeds': False, 'obvious': False, 'sequence': True, 'victim': False, 'around': False, 'tries': False, 'desperate': False, 'elaborate': False, 'plans': False, 'cliche': False, 'murdered': False, 'pet': False, 'exception': False, 'cat': False, 'shower': False, 'events': False, 'lead': False, 'inevitable': False, 'showdown': False, 'survives': False, 'conclusion': False, 'turkey': False, 'uniformly': False, 'adequate': False, 'anything': False, 'home': False, 'words': False, 'creepy': False, 'demands': False, 'abo': False, 'bond': False, 'chick': False, 'living': False, 'daylights': False, 'title': False, 'ditzy': False, 'strong': False, 'independent': False, 'business': False, 'owner': False, 'example': False, 'suspicions': False, 'use': False, 'excuse': False, 'decides': False, 'toolbox': False, 'place': False, 'house': False, 'door': False, 'one': False, 'wanders': False, 'returns': False, 'heroine': False, 'danger': False, 'somehow': False, 'front': False, 'oblivious': False, 'presence': False, 'inside': False, 'whole': False, 'episode': False, 'places': False, 'incredible': False, 'strain': False, 'suspension': False, 'disbelief': False, 'questions': False, 'validity': False, 'intelligence': False, 'derivative': False, 'boring': False, 'several': True, 'murder': False, 'brief': False, 'strip': False, 'bar': False, 'offensive': False, 'many': True, 'thrillers': False, 're': True, 'mood': False, 'stake': False, 'capsule': False, 'planet': False, 'mars': False, 'custody': False, 'murderer': False, 'menace': False, 'lot': False, 'john': True, 'carpenter': False, 'reprises': False, 'ideas': False, 'previous': False, 'precinct': False, 'homage': False, 'horrible': False, 'writer': False, 'expert': False, 'mistake': False, 'ghosts': False, 'drawn': False, 'fight': False, 'humans': True, 'low': False, 'alien': False, 'addition': True, 'anybody': False, 'grounds': False, 'chock': False, 'full': False, 'pieces': False, 'assault': False, 'prince': False, 'darkness': False, 'novel': False, 'science': False, 'fiction': False, 'experience': False, 'surface': False, 'gear': False, 'budget': False, 'gravity': False, 'easier': False, 'society': False, 'culture': False, 'women': True, 'positions': False, 'control': False, 'view': False, 'female': False, 'minor': False, 'technological': False, 'advances': False, 'ten': False, 'basic': False, 'common': False, 'tacky': False, 'rundown': False, 'martian': False, 'mining': False, 'colony': False, 'criminal': False, 'napolean': False, 'wilson': False, 'desolation': False, 'williams': False, 'hoodlums': False, 'automatic': False, 'weapons': False, 'face': True, 'nature': False, 'manner': False, 'human': True, 'savages': False, 'lapse': False, 'imagination': False, 'flashback': False, 'tones': False, 'red': False, 'yellow': False, 'black': True, 'manages': False, 'powerful': False, 'scene': True, 'train': False, 'sound': False, 'heavy': False, 'buildup': False, 'terror': False, 'fugitive': False, 'wannabes': False, 'rock': False, 'band': False, 'kiss': False, 'building': False, 'bunch': False, 'sudden': False, 'jump': False, 'scary': False, 'shock': False, 'great': False, 'newer': False, 'unimpressive': False, 'digital': False, 'decapitations': False, 'fights': False, 'short': False, 'stretch': False, 'release': False, 'mission': False, 'reviewers': False, 'better': False, 'rate': False, 'scale': False, 'classic': False, 'comment': False, 'twice': False, 'millimeter': False, 'wholesome': False, 'surveillance': False, 'sight': False, 'values': False, 'seedy': False, 'sleazy': False, 'underworld': False, 'hardcore': False, 'pornography': False, 'town': False, 'americana': False, 'sordid': False, 'sick': False, 'depraved': False, 'order': False, 'twisted': False, 'desires': False, 'position': False, 'making': False, 'kinds': False, 'demented': False, 'snuff': False, 'documentaries': False, 'victims': False, 'camera': True, 'joel': False, 'schumacher': False, 'run': False, 'credit': False, 'batman': False, 'robin': False, 'client': False, 'influence': False, 'thirds': False, 'unwind': False, 'conventional': False, 'persons': False, 'drama': False, 'unsavory': False, 'core': False, 'violence': False, 'ridiculous': False, 'self': False, 'righteous': False, 'finale': False, 'unpleasant': False, 'hours': False, 'nicolas': True, 'eyes': False, 'cage': True, 'plays': False, 'private': False, 'investigator': False, 'tom': False, 'welles': False, 'wealthy': False, 'philadelphia': False, 'widow': False, 'reel': False, 'safe': False, 'documents': False, 'girl': False, 'assignment': False, 'puzzle': False, 'specialized': False, 'skills': False, 'training': False, 'easy': False, 'cops': False, 'look': False, 'toilet': False, 'tanks': False, 'clues': False, 'deeper': False, 'digs': False, 'investigation': False, 'obsessed': False, 'george': False, 'scott': False, 'paul': False, 'schrader': False, 'flickering': False, 'whirs': False, 'sprockets': False, 'projector': False, 'task': False, 'hints': False, 'toll': False, 'lovely': False, 'catherine': False, 'keener': False, 'cleveland': False, 'ugly': False, 'level': False, 'harrisburg': False, 'pa': False, 'condemn': False, 'subject': False, 'matter': False, 'irony': False, 'scribe': False, 'kevin': False, 'walker': False, 'vision': False, 'lane': False, 'hollywood': True, 'product': False, 'snippets': False, 'turn': False, 'joaquin': False, 'phoenix': False, 'adult': False, 'flunky': False, 'california': False, 'horrid': False, 'familiar': False, 'revelation': False, 'sexual': False, 'deviants': False, 'monsters': False, 'everyday': False, 'super': False, 'standard': True, 'banality': False, 'weren': False, 'laughs': False, 'months': False, 'terrible': False, 'mr': False, 'hugh': False, 'grant': False, 'huge': False, 'dork': False, 'oral': False, 'sex': False, 'prostitution': False, 'bugs': False, 'sandler': False, 'annoying': False, 'jim': False, 'eye': False, 'flutters': False, 'nervous': False, 'smiles': False, 'pass': False, 'slapstick': False, 'fistfight': False, 'delivery': False, 'room': True, 'culminating': False, 'joan': False, 'cusack': False, 'lap': False, 'double': False, 'entendres': False, 'obstetrician': False, 'pregnant': False, 'pussy': False, 'size': False, 'hairs': False, 'coat': False, 'exchange': False, 'cookie': False, 'cutter': False, 'originality': False, 'humor': False, 'successful': False, 'child': False, 'psychiatrist': False, 'psychologist': False, 'scriptwriters': False, 'unfunny': False, 'kid': False, 'dad': False, 'asshole': False, 'eyelashes': False, 'smile': False, 'english': True, 'accent': False, 'attitude': False, 'stupid': False, 'jokes': False, 'olds': False, 'everyone': False, 'usual': False, 'reaction': False, 'fluttered': False, 'possible': False, 'pregnancy': False, 'birth': False, 'gag': False, 'book': False, 'friend': False, 'arnold': False, 'cacophonous': False, 'funny': False, 'dinosaur': False, 'parallels': False, 'toy': False, 'store': False, 'jeff': False, 'goldblum': False, 'dreadful': False, 'hideaway': False, 'artist': False, 'fear': False, 'simultaneous': False, 'longing': True, 'commitment': False, 'doctor': False, 'veterinary': False, 'medicine': False, 'obstetrics': False, 'joke': False, 'old': False, 'foreign': True, 'guy': False, 'mispronounces': False, 'stereotype': False, 'yakov': False, 'smirnov': False, 'favorite': False, 'vodka': False, 'volvo': False, 'nasty': False, 'unamusing': False, 'heads': False, 'failure': False, 'loud': False, 'uninspired': False, 'lunacy': False, 'boulevard': False, 'arrest': False, 'please': False, 'caught': False, 'pants': False, 'theaters': False, 'forced': False, 'unauthentic': False, 'anyone': False, 'sorry': False, 'money': False, 'unfulfilled': False, 'desire': True, 'bucks': False, 'road': False, 'trip': False, 'walking': False, 'stellan': False, 'skarsg': False, 'rd': False, 'difficult': False, 'smelly': False, 'reliable': False, 'swedish': False, 'depth': False, 'significance': False, 'plodding': False, 'aberdeen': False, 'sentimental': False, 'mundane': False, 'european': False, 'playwright': False, 'august': False, 'strindberg': False, 'career': False, 'families': False, 'relationships': False, 'secrets': False, 'unable': False, 'longings': False, 'accurate': False, 'reflection': False, 'strives': False, 'pairing': False, 'alcoholic': False, 'tomas': False, 'alienated': False, 'hostile': False, 'yuppie': False, 'lena': False, 'headey': False, 'gossip': False, 'wouldn': False, 'automobile': False, 'kaisa': False, 'charlotte': False, 'rampling': False, 'sand': True, 'hospital': False, 'bed': False, 'cancer': False, 'soap': False, 'opera': False, 'twist': False, 'days': False, 'foot': False, 'plane': False, 'open': False, 'periodic': False, 'stops': False, 'dashboard': False, 'rotten': False, 'sloshed': False, 'viewpoint': False, 'apple': False, 'hasn': False, 'tree': False, 'nosebleeds': False, 'coke': False, 'personal': False, 'indifference': False, 'vindictive': False, 'temper': False, 'ain': False, 'pair': False, 'true': False, 'notes': False, 'unspoken': False, 'familial': False, 'empathy': False, 'note': False, 'bitchy': False, 'screenwriters': False, 'amundsen': False, 'hans': False, 'moland': False, 'series': False, 'contrivances': False, 'hooligans': False, 'drunks': False, 'nosy': False, 'flat': False, 'tires': False, 'figure': False, 'schematic': False, 'convenient': False, 'narrative': False, 'dark': False, 'simplistic': False, 'devices': False, 'conflict': False, 'mainstays': False, 'wannabe': False, 'sake': False, 'weak': False, 'unimaginative': False, 'casting': False, 'pivotal': False, 'role': False, 'stronger': False, 'actress': False, 'performances': True, 'moody': False, 'cinematography': False, 'pastoral': False, 'ghost': False, 'reference': False, 'certain': False, 'superior': False, 'indie': False, 'intentional': False, 'busy': False, 'brow': False, 'twitch': False, 'insouciance': False, 'attention': False, 'less': False, 'worthwhile': False, 'earlier': False, 'captivating': False, 'wonders': False, 'disturbed': False, 'parental': False, 'figures': False, 'ceremonial': False, 'wedlock': False, 'differences': False, 'significant': False, 'luminous': False, 'diva': False, 'static': False, 'solid': False, 'performance': True, 'pathetic': False, 'drunk': False, 'catatonic': False, 'sorrow': False, 'genuine': False, 'ferocity': False, 'frisson': False, 'understated': False, 'confrontations': False, 'gray': False, 'zone': False, 'complications': False, 'accompany': False, 'torn': False, 'romance': True, 'stifled': False, 'curiosity': False, 'nossiter': False, 'neurotic': False, 'territory': False, 'americanization': False, 'greece': False, 'mysticism': False, 'illusion': False, 'pain': True, 'feels': False, 'willing': False, 'traditional': False, 'ambitious': False, 'rhythms': False, 'timing': False, 'driven': False, 'stories': False, 'complexities': False, 'answer': False, 'lawrence': False, 'kasdan': False, 'trite': False, 'useful': False, 'grand': False, 'canyon': False, 'martin': False, 'mogul': False, 'pronounces': False, 'riddles': False, 'advice': False, 'heart': True, 'french': False, 'parents': False, 'tim': False, 'roth': False, 'oops': False, 'mean': False, 'musketeer': False, 'dude': False, 'fourteen': False, 'arrgh': False, 'rest': False, 'swish': False, 'zzzzzzz': False, 'see': False, 'original': False, 'energy': False, 'hmmmm': False, 'justin': False, 'chambers': False, 'uncharismatic': False, 'version': True, 'chris': False, 'donnell': False, 'range': False, 'mena': False, 'suvari': False, 'thora': False, 'birch': False, 'dungeons': False, 'dragons': False, 'miscast': False, 'deliveries': False, 'piss': False, 'poor': False, 'ms': False, 'fault': False, 'higher': False, 'semi': False, 'grace': False, 'wise': False, 'irrepressible': False, 'thousand': False, 'god': True, 'agent': False, 'marketplace': False, 'modern': False, 'day': False, 'roles': False, 'romantic': False, 'gunk': False, 'alright': False, 'score': False, 'yikes': False, 'notches': False, 'fellas': False, 'ear': False, 'need': False, 'annoy': False, 'important': True, 'epic': False, 'fluffy': False, 'walk': True, 'advantage': False, 'fu': False, 'phenomenon': False, 'dudes': False, 'reading': False, 'editing': False, 'shoddy': False, 'banal': False, 'plentiful': False, 'top': False, 'horse': False, 'carriage': False, 'opponent': False, 'mouseketeer': False, 'rope': False, 'tower': False, 'chords': False, 'shirt': False, 'fun': False, 'didn': False, 'stretches': False, 'atrocious': False, 'lake': False, 'school': False, 'cringe': False, 'musketeers': False, 'raison': False, 'etre': False, 'numbers': False, 'stuntwork': False, 'trailer': False, 'major': False, 'beginning': False, 'ladders': False, 'ladder': False, 'definite': False, 'keeper': False, 'crap': False, 'deneuve': False, 'hullo': False, 'ugh': False, 'small': False, 'trash': False, 'gang': False, 'outlaws': False, 'crouching': False, 'tiger': False, 'matrix': False, 'replacement': False, 'killers': False, 'romeo': False, 'shanghai': False, 'noon': False, 'dr': False, 'hannibal': False, 'lecter': False, 'michael': True, 'mann': False, 'forensics': False, 'thriller': False, 'manhunter': False, 'scottish': False, 'brian': False, 'cox': False, 'schlock': False, 'goodnight': False, 'meaty': False, 'substantial': False, 'brilliant': False, 'dogged': False, 'inspector': False, 'opposite': False, 'frances': False, 'ken': False, 'loach': False, 'hidden': False, 'agenda': False, 'harrigan': False, 'sundance': False, 'distributors': False, 'adolescents': False, 'pad': False, 'members': False, 'presentation': False, 'empathetic': False, 'light': True, 'robust': False, 'friends': False, 'wire': False, 'act': False, 'lives': False, 'pay': False, 'courtship': False, 'temptations': False, 'grown': False, 'stands': False, 'island': False, 'expressway': False, 'malls': False, 'class': False, 'homes': False, 'suburbia': False, 'filmmaker': False, 'cuesta': False, 'transparent': False, 'metaphor': False, 'escape': False, 'protagonist': False, 'howie': False, 'franklin': False, 'dano': False, 'reveals': False, 'morbid': False, 'preoccupation': False, 'death': False, 'deaths': False, 'alan': False, 'pakula': False, 'songwriter': False, 'harry': False, 'chapin': False, 'exit': False, 'feelings': False, 'bright': False, 'move': False, 'complex': False, 'molesters': False, 'beast': False, 'advised': False, 'foray': False, 'haven': False, 'unnecessary': False, 'miserable': False, 'altman': False, 'seat': False, 'collar': False, 'crime': False, 'degenerate': False, 'youngsters': False, 'kicks': False, 'houses': False, 'homoerotic': False, 'shenanigans': False, 'ass': False, 'terrio': False, 'handsome': False, 'artful': False, 'dodger': False, 'themes': False, 'suburban': False, 'ennui': False, 'awkward': False, 'subplots': False, 'running': False, 'relationship': True, 'paced': False, 'baseball': False, 'cap': False, 'faded': False, 'marine': False, 'tattoo': False, 'bluff': False, 'bluster': False, 'quiet': False, 'glance': False, 'withdrawn': False, 'dramatic': False, 'choices': False, 'broad': False, 'haley': False, 'surprising': False, 'restraint': False, 'admirable': False, 'screenplay': True, 'material': False, 'walt': False, 'whitman': False, 'poem': True, 'moment': False, 'precious': False, 'lingers': False, 'ecstatic': False, 'glenn': False, 'bach': False, 'goldberg': False, 'variations': False, 'walter': False, 'masterson': False, 'jealous': False, 'newbie': False, 'thread': False, 'haunting': True, 'observational': False, 'portrait': False, 'alienation': False, 'terry': False, 'zwigoff': False, 'superb': False, 'confidence': False, 'ambivalent': False, 'typical': True, 'cinema': False, 'bullet': False, 'writers': False, 'philosophical': False, 'regard': False, 'share': True, 'blockbuster': False, 'obstacle': False, 'question': False, 'realism': False, 'janeane': False, 'garofalo': False, 'couple': False, 'truth': False, 'cats': False, 'dogs': False, 'matchmaker': False, 'books': False, 'plods': False, 'predestined': False, 'surprises': False, 'popular': False, 'political': False, 'satire': False, 'bandwagon': False, 'campaign': False, 'aide': False, 'massacusetts': False, 'senator': False, 'sanders': False, 'reelection': False, 'denis': False, 'leary': False, 'stereotypical': False, 'strategist': False, 'ethics': False, 'scandal': False, 'irish': False, 'roots': False, 'boston': False, 'catholic': False, 'contingent': False, 'kennedy': False, 'family': False, 'orders': False, 'relatives': False, 'mantra': False, 'tiny': False, 'bus': False, 'hotel': False, 'smallest': False, 'trashiest': False, 'dog': False, 'luggage': False, 'roger': False, 'ebert': False, 'meet': False, 'unconventional': False, 'cinematic': False, 'walks': False, 'bathroom': False, 'nude': False, 'sean': False, 'david': False, 'hara': False, 'bathtub': False, 'points': False, 'water': False, 'hates': False, 'instant': False, 'irishman': False, 'hate': False, 'awhile': False, 'charms': False, 'superficial': False, 'detail': False, 'turmoil': False, 'reconcile': False, 'tune': False, 'ireland': False, 'annual': False, 'matchmaking': False, 'festival': False, 'county': False, 'future': False, 'bliss': False, 'shea': False, 'snyder': False, 'souls': False, 'utter': False, 'predictability': False, 'message': False, 'respectable': False, 'person': True, 'comedic': False, 'distinction': False, 'script': False, 'stays': False, 'phone': False, 'microphone': False, 'speech': False, 'hong': False, 'kong': False, 'style': False, 'filmmaking': False, 'classics': False, 'nod': False, 'france': False, 'excruciating': False, 'lukewarm': False, 'dumas': False, 'asian': False, 'stunt': False, 'coordinator': False, 'xiong': False, 'prior': False, 'attempts': False, 'choreography': False, 'laughable': False, 'van': False, 'damme': False, 'vehicle': False, 'team': False, 'dennis': True, 'rodman': False, 'simon': False, 'sez': False, 'air': True, 'fighting': False, 'result': False, 'tepid': False, 'adventure': False, 'stinks': False, 'indiana': False, 'jones': False, 'kung': False, 'simple': True, 'grandmother': False, 'artagnan': False, 'vengeful': False, 'son': False, 'slain': False, 'royal': False, 'paris': False, 'cardinal': False, 'richelieu': False, 'stephen': False, 'rea': False, 'king': False, 'associate': False, 'febre': False, 'killer': False, 'aramis': False, 'nick': False, 'moran': False, 'jan': False, 'gregor': False, 'kremp': False, 'porthos': False, 'steven': False, 'spiers': False, 'imprisoned': False, 'leader': False, 'treville': False, 'prison': False, 'frisky': False, 'interest': False, 'francesca': False, 'play': False, 'footsy': False, 'coo': False, 'hunts': False, 'queen': False, 'menancing': False, 'charge': False, 'peter': False, 'hyams': False, 'eastern': False, 'western': False, 'styles': False, 'disaster': False, 'reality': False, 'ones': False, 'jet': False, 'li': False, 'risk': False, 'rip': False, 'die': False, 'swordplay': False, 'spread': False, 'bulk': False, 'minute': False, 'picture': False, 'monotonous': False, 'gene': False, 'quintano': False, 'prosaic': False, 'wedding': False, 'planner': False, 'mousy': False, 'artangnan': False, 'hyam': False, 'candles': False, 'torches': False, 'grime': False, 'filth': False, 'standout': False, 'mortal': True, 'kombat': False, 'annihilation': False, 'works': False, 'multiple': False, 'levels': False, 'rampant': False, 'usage': False, 'randian': False, 'subtext': False, 'ironic': False, 'remark': False, 'marxist': False, 'imagery': False, 'seriousness': False, 'fair': False, 'necessary': False, 'viewpoints': False, 'watcher': False, 'unfamiliar': False, 'fan': False, 'games': False, 'martial': False, 'arts': False, 'tournament': False, 'fate': False, 'earth': True, 'inhabitants': True, 'mortals': False, 'theory': False, 'emperor': False, 'shao': False, 'khan': False, 'loser': False, 'ready': False, 'stance': False, 'game': False, 'directors': False, 'limitations': False, 'try': False, 'distracting': False, 'non': False, 'intrusive': False, 'bits': False, 'fluff': False, 'smashing': False, 'success': False, 'box': False, 'office': False, 'introductory': False, 'exposition': False, 'silly': False, 'rule': False, 'general': False, 'impression': False, 'producers': False, 'formula': False, 'volumes': False, 'sandra': False, 'hess': False, 'sonya': False, 'execrable': False, 'johnny': False, 'worst': False, 'mis': False, 'james': True, 'thunder': False, 'christopher': False, 'lambert': False, 'raiden': False, 'japanese': False, 'chinese': False, 'mystics': False, 'lister': False, 'jr': False, 'president': False, 'fifth': False, 'remar': False, 'utility': False, 'luxury': False, 'awareness': False, 'meaningless': False, 'sidetracks': False, 'muddled': False, 'liu': False, 'kang': False, 'shou': False, 'nightwolf': False, 'litefoot': False, 'mystical': False, 'hallucination': False, 'jade': False, 'irina': False, 'pantaeva': False, 'reasons': True, 'critiques': False, 'worse': False, 'bridgette': False, 'blade': False, 'convincing': False, 'movements': False, 'choreographer': False, 'looks': False, 'believable': True, 'jax': False, 'earthquake': False, 'animality': False, 'bonus': False, 'similar': False, 'moves': False, 'aren': False, 'lamest': False, 'mud': False, 'wrestling': False, 'match': False, 'lame': False, 'emporer': False, 'animalities': False, 'motaro': False, 'sheeva': False, 'lifelike': False, 'goro': False, 'femme': False, 'la': False, 'backdraft': False, 'sliver': False, 'cindy': False, 'crawford': False, 'anne': False, 'parillaud': False, 'william': False, 'conspire': False, 'image': False, 'hooey': False, 'stallone': False, 'stone': False, 'specialist': False, 'recurring': False, 'hired': False, 'assassin': False, 'jamaica': False, 'painful': False, 'pedestrian': False, 'care': False, 'siouxsie': False, 'sioux': False, 'wig': False, 'emotionless': False, 'leather': False, 'clothing': False, 'seattle': False, 'karen': False, 'plots': False, 'crisp': False, 'modicum': False, 'shakespearean': False, 'leaden': False, 'cardboard': False, 'confines': False, 'beg': False, 'couldn': False, 'huh': False, 'wonderful': True, 'interchange': False, 'charm': False, 'faster': False, 'return': False, 'cereal': False, 'crybaby': False, 'stranger': False, 'flowers': False, 'chromium': False, 'tough': False, 'nails': False, 'machine': False, 'mirrors': False, 'stock': False, 'interested': False, 'nest': False, 'egg': False, 'paradise': False, 'parking': False, 'graham': False, 'greene': False, 'barbet': False, 'schroeder': False, 'reversal': False, 'fortune': False, 'york': False, 'vampires': False, 'latest': False, 'opus': False, 'bent': False, 'possessive': False, 'unashamed': False, 'storyline': False, 'borders': False, 'idiotic': False, 'chaotic': False, 'dormant': False, 'martians': False, 'gases': False, 'hapless': False, 'colonists': False, 'testy': False, 'marilyn': False, 'manson': False, 'lookalikes': False, 'bah': False, 'counsel': False, 'official': False, 'ballard': False, 'natasha': False, 'henstridge': False, 'sub': False, 'species': False, 'returnee': False, 'officer': False, 'incarcerated': False, 'felon': False, 'second': False, 'blonde': False, 'ponytail': False, 'ice': False, 'cube': False, 'grier': False, 'briefly': False, 'host': False, 'bird': False, 'shots': True, 'sprawling': False, 'metropolis': False, 'state': False, 'art': False, 'trademark': False, 'waste': False, 'department': False, 'lock': False, 'fare': True, 'dingy': False, 'interiors': False, 'exteriors': False, 'inane': False, 'lots': False, 'aliens': False, 'weaponry': False, 'explodes': False, 'warfare': False, 'villains': False, 'border': False, 'conflicts': False, 'shootouts': False, 'hissing': False, 'snake': False, 'plissken': False, 'wonder': False, 'minimalist': False, 'soundtracks': False, 'effective': False, 'scoring': False, 'guitar': False, 'though': False, 'audible': False, 'priceless': False, 'infertile': False, 'breeding': False, 'ground': False, 'stillborn': False, 'val': False, 'kilmer': False, 'disappointing': False, 'weekend': False, 'sequels': False, 'pie': False, 'rush': False, 'absent': False, 'references': True, 'perth': False, 'amboys': False, 'closest': False, 'neighbor': False, 'slap': False, 'pretend': False, 'intelligent': False, 'sci': False, 'fi': False, 'luck': False, 'alicia': False, 'silverstone': False, 'beautiful': True, 'creatures': False, 'green': False, 'critic': False, 'large': False, 'crush': False, 'slow': False, 'moving': False, 'horrific': False, 'adaptation': False, 'clueless': False, 'theater': False, 'preview': False, 'whiny': False, 'unlikable': False, 'agreement': False, 'cover': False, 'babysitter': False, 'inner': False, 'compulsion': False, 'regret': False, 'paragraph': False, 'competition': False, 'thin': True, 'slower': False, 'glacier': False, 'writing': False, 'appeal': False, 'violent': False, 'equals': False, 'spends': False, 'twenty': False, 'bubble': False, 'bath': False, 'features': False, 'friday': False, 'cocktail': False, 'nights': False, 'trods': False, 'silent': False, 'object': False, 'male': False, 'fantasies': False, 'drunken': False, 'youth': False, 'boyfriend': False, 'outside': False, 'prepubescent': False, 'keyhole': False, 'counterpart': False, 'pound': False, 'silk': False, 'teddy': False, 'fanatasies': False, 'realm': False, 'pg': False, 'cinemax': False, 'staple': False, 'various': False, 'close': False, 'encounters': False, 'third': False, 'space': False, 'odyssey': False, 'hell': False, 'melange': False, 'disastrous': False, 'results': False, 'rescue': False, 'astronauts': False, 'unknown': False, 'force': False, 'contact': False, 'aviators': False, 'uneven': False, 'promise': False, 'buzz': False, 'downshifts': False, 'neutral': False}, 'pos')]\n"
          ],
          "name": "stdout"
        }
      ]
    },
    {
      "cell_type": "code",
      "metadata": {
        "id": "cFXubAtcqg0a",
        "colab_type": "code",
        "colab": {}
      },
      "source": [
        "train_data = featuresets[:1500]\n",
        "test_data = featuresets[1500:]"
      ],
      "execution_count": 0,
      "outputs": []
    },
    {
      "cell_type": "code",
      "metadata": {
        "id": "FPbIwLWJrojs",
        "colab_type": "code",
        "colab": {}
      },
      "source": [
        "classifier = NaiveBayesClassifier.train(train_data)"
      ],
      "execution_count": 0,
      "outputs": []
    },
    {
      "cell_type": "code",
      "metadata": {
        "id": "bWIkxB-Vr8Ey",
        "colab_type": "code",
        "colab": {}
      },
      "source": [
        "accuracy = nltk.classify.accuracy(classifier, test_data)*100"
      ],
      "execution_count": 0,
      "outputs": []
    },
    {
      "cell_type": "code",
      "metadata": {
        "id": "yz24SnOss4HF",
        "colab_type": "code",
        "colab": {}
      },
      "source": [
        "comment = \" I like the movie. It's thrilling and worth watching\""
      ],
      "execution_count": 0,
      "outputs": []
    },
    {
      "cell_type": "code",
      "metadata": {
        "id": "z6rod6Yqr56d",
        "colab_type": "code",
        "outputId": "04085820-f117-40ed-e5ed-07caa0e86a91",
        "colab": {
          "base_uri": "https://localhost:8080/",
          "height": 35
        }
      },
      "source": [
        "print(accuracy)"
      ],
      "execution_count": 0,
      "outputs": [
        {
          "output_type": "stream",
          "text": [
            "82.39999999999999\n"
          ],
          "name": "stdout"
        }
      ]
    },
    {
      "cell_type": "code",
      "metadata": {
        "id": "4mHTBQ4jq3Bo",
        "colab_type": "code",
        "colab": {}
      },
      "source": [
        "classification = classifier.classify((getVectors(wordFeatures, comment)))"
      ],
      "execution_count": 0,
      "outputs": []
    },
    {
      "cell_type": "code",
      "metadata": {
        "id": "BDd7T_nEtDF6",
        "colab_type": "code",
        "outputId": "126078e9-34ef-4d7c-da17-d086d753a353",
        "colab": {
          "base_uri": "https://localhost:8080/",
          "height": 35
        }
      },
      "source": [
        "print(classification)"
      ],
      "execution_count": 0,
      "outputs": [
        {
          "output_type": "stream",
          "text": [
            "neg\n"
          ],
          "name": "stdout"
        }
      ]
    },
    {
      "cell_type": "code",
      "metadata": {
        "id": "Umh25izotcc1",
        "colab_type": "code",
        "colab": {}
      },
      "source": [
        "from sklearn.naive_bayes import MultinomialNB\n",
        "from sklearn.pipeline import Pipeline\n",
        "from sklearn.feature_extraction.text import TfidfTransformer, CountVectorizer\n",
        "from sklearn.model_selection import train_test_split"
      ],
      "execution_count": 0,
      "outputs": []
    },
    {
      "cell_type": "code",
      "metadata": {
        "id": "1baYR22FuLyk",
        "colab_type": "code",
        "colab": {}
      },
      "source": [
        "reviews = []\n",
        "labels = []\n",
        "\n",
        "for label in movie_reviews.categories():\n",
        "  for revId in movie_reviews.fileids(label):\n",
        "    reviews.append(' '.join(list(movie_reviews.words(revId))))\n",
        "    labels.append(label)"
      ],
      "execution_count": 0,
      "outputs": []
    },
    {
      "cell_type": "code",
      "metadata": {
        "id": "IDtLkFoYvIgQ",
        "colab_type": "code",
        "outputId": "cc2aed16-432e-4802-84c3-e840ab09a1ed",
        "colab": {
          "base_uri": "https://localhost:8080/",
          "height": 55
        }
      },
      "source": [
        "print(reviews[0])"
      ],
      "execution_count": 0,
      "outputs": [
        {
          "output_type": "stream",
          "text": [
            "plot : two teen couples go to a church party , drink and then drive . they get into an accident . one of the guys dies , but his girlfriend continues to see him in her life , and has nightmares . what ' s the deal ? watch the movie and \" sorta \" find out . . . critique : a mind - fuck movie for the teen generation that touches on a very cool idea , but presents it in a very bad package . which is what makes this review an even harder one to write , since i generally applaud films which attempt to break the mold , mess with your head and such ( lost highway & memento ) , but there are good and bad ways of making all types of films , and these folks just didn ' t snag this one correctly . they seem to have taken this pretty neat concept , but executed it terribly . so what are the problems with the movie ? well , its main problem is that it ' s simply too jumbled . it starts off \" normal \" but then downshifts into this \" fantasy \" world in which you , as an audience member , have no idea what ' s going on . there are dreams , there are characters coming back from the dead , there are others who look like the dead , there are strange apparitions , there are disappearances , there are a looooot of chase scenes , there are tons of weird things that happen , and most of it is simply not explained . now i personally don ' t mind trying to unravel a film every now and then , but when all it does is give me the same clue over and over again , i get kind of fed up after a while , which is this film ' s biggest problem . it ' s obviously got this big secret to hide , but it seems to want to hide it completely until its final five minutes . and do they make things entertaining , thrilling or even engaging , in the meantime ? not really . the sad part is that the arrow and i both dig on flicks like this , so we actually figured most of it out by the half - way point , so all of the strangeness after that did start to make a little bit of sense , but it still didn ' t the make the film all that more entertaining . i guess the bottom line with movies like this is that you should always make sure that the audience is \" into it \" even before they are given the secret password to enter your world of understanding . i mean , showing melissa sagemiller running away from visions for about 20 minutes throughout the movie is just plain lazy ! ! okay , we get it . . . there are people chasing her and we don ' t know who they are . do we really need to see it over and over again ? how about giving us different scenes offering further insight into all of the strangeness going down in the movie ? apparently , the studio took this film away from its director and chopped it up themselves , and it shows . there might ' ve been a pretty decent teen mind - fuck movie in here somewhere , but i guess \" the suits \" decided that turning it into a music video with little edge , would make more sense . the actors are pretty good for the most part , although wes bentley just seemed to be playing the exact same character that he did in american beauty , only in a new neighborhood . but my biggest kudos go out to sagemiller , who holds her own throughout the entire film , and actually has you feeling her character ' s unraveling . overall , the film doesn ' t stick because it doesn ' t entertain , it ' s confusing , it rarely excites and it feels pretty redundant for most of its runtime , despite a pretty cool ending and explanation to all of the craziness that came before it . oh , and by the way , this is not a horror or teen slasher flick . . . it ' s just packaged to look that way because someone is apparently assuming that the genre is still hot with the kids . it also wrapped production two years ago and has been sitting on the shelves ever since . whatever . . . skip it ! where ' s joblo coming from ? a nightmare of elm street 3 ( 7 / 10 ) - blair witch 2 ( 7 / 10 ) - the crow ( 9 / 10 ) - the crow : salvation ( 4 / 10 ) - lost highway ( 10 / 10 ) - memento ( 10 / 10 ) - the others ( 9 / 10 ) - stir of echoes ( 8 / 10 )\n"
          ],
          "name": "stdout"
        }
      ]
    },
    {
      "cell_type": "code",
      "metadata": {
        "id": "3hQ-wRfDvSbR",
        "colab_type": "code",
        "colab": {}
      },
      "source": [
        "model_mulNB = Pipeline([('vect', CountVectorizer(ngram_range=(2, 4),\n",
        "                                                stop_words='english',\n",
        "                                                lowercase=True)),\n",
        "                       ('tfidf', TfidfTransformer()),\n",
        "                       ('Multinomial', MultinomialNB())])"
      ],
      "execution_count": 0,
      "outputs": []
    },
    {
      "cell_type": "code",
      "metadata": {
        "id": "aqLEA6_OwF7a",
        "colab_type": "code",
        "colab": {}
      },
      "source": [
        "X_train, X_test, y_train, y_test = train_test_split(reviews, labels, test_size=0.3, random_state=0)"
      ],
      "execution_count": 0,
      "outputs": []
    },
    {
      "cell_type": "code",
      "metadata": {
        "id": "I3o9t6GJwwRt",
        "colab_type": "code",
        "colab": {}
      },
      "source": [
        "cv = CountVectorizer()\n",
        "trainVectors = cv.fit_transform(X_train)"
      ],
      "execution_count": 0,
      "outputs": []
    },
    {
      "cell_type": "code",
      "metadata": {
        "id": "mkm2mmv2w--P",
        "colab_type": "code",
        "colab": {}
      },
      "source": [
        "a = trainVectors.toarray()"
      ],
      "execution_count": 0,
      "outputs": []
    },
    {
      "cell_type": "code",
      "metadata": {
        "id": "BRjT3IAuxDpt",
        "colab_type": "code",
        "outputId": "0dc8eab0-e29a-427e-9276-1c5491e39165",
        "colab": {
          "base_uri": "https://localhost:8080/",
          "height": 139
        }
      },
      "source": [
        "a"
      ],
      "execution_count": 0,
      "outputs": [
        {
          "output_type": "execute_result",
          "data": {
            "text/plain": [
              "array([[0, 0, 0, ..., 0, 0, 0],\n",
              "       [0, 1, 0, ..., 0, 0, 0],\n",
              "       [0, 1, 0, ..., 0, 0, 0],\n",
              "       ...,\n",
              "       [0, 0, 0, ..., 0, 0, 0],\n",
              "       [0, 0, 0, ..., 0, 0, 0],\n",
              "       [0, 2, 0, ..., 0, 0, 0]])"
            ]
          },
          "metadata": {
            "tags": []
          },
          "execution_count": 43
        }
      ]
    },
    {
      "cell_type": "code",
      "metadata": {
        "id": "KaQAhkOyxUV_",
        "colab_type": "code",
        "outputId": "9c653af1-4c5a-4ca9-ddb8-385cbaaaa457",
        "colab": {
          "base_uri": "https://localhost:8080/",
          "height": 312
        }
      },
      "source": [
        "model_mulNB.fit(X_train, y_train)"
      ],
      "execution_count": 0,
      "outputs": [
        {
          "output_type": "execute_result",
          "data": {
            "text/plain": [
              "Pipeline(memory=None,\n",
              "         steps=[('vect',\n",
              "                 CountVectorizer(analyzer='word', binary=False,\n",
              "                                 decode_error='strict',\n",
              "                                 dtype=<class 'numpy.int64'>, encoding='utf-8',\n",
              "                                 input='content', lowercase=True, max_df=1.0,\n",
              "                                 max_features=None, min_df=1,\n",
              "                                 ngram_range=(2, 4), preprocessor=None,\n",
              "                                 stop_words='english', strip_accents=None,\n",
              "                                 token_pattern='(?u)\\\\b\\\\w\\\\w+\\\\b',\n",
              "                                 tokenizer=None, vocabulary=None)),\n",
              "                ('tfidf',\n",
              "                 TfidfTransformer(norm='l2', smooth_idf=True,\n",
              "                                  sublinear_tf=False, use_idf=True)),\n",
              "                ('Multinomial',\n",
              "                 MultinomialNB(alpha=1.0, class_prior=None, fit_prior=True))],\n",
              "         verbose=False)"
            ]
          },
          "metadata": {
            "tags": []
          },
          "execution_count": 45
        }
      ]
    },
    {
      "cell_type": "code",
      "metadata": {
        "id": "MP8koxSaxf0r",
        "colab_type": "code",
        "colab": {}
      },
      "source": [
        "classification = model_mulNB.predict([comment])"
      ],
      "execution_count": 0,
      "outputs": []
    },
    {
      "cell_type": "code",
      "metadata": {
        "id": "XkpVv8ksx4kj",
        "colab_type": "code",
        "outputId": "10d518b6-8f5d-4077-e211-f1d39fba660e",
        "colab": {
          "base_uri": "https://localhost:8080/",
          "height": 35
        }
      },
      "source": [
        "classification"
      ],
      "execution_count": 0,
      "outputs": [
        {
          "output_type": "execute_result",
          "data": {
            "text/plain": [
              "array(['pos'], dtype='<U3')"
            ]
          },
          "metadata": {
            "tags": []
          },
          "execution_count": 48
        }
      ]
    },
    {
      "cell_type": "code",
      "metadata": {
        "id": "TOIhdSWnyM5a",
        "colab_type": "code",
        "colab": {}
      },
      "source": [
        "from nltk.classify import SklearnClassifier\n",
        "from sklearn.feature_selection import SelectKBest, chi2"
      ],
      "execution_count": 0,
      "outputs": []
    },
    {
      "cell_type": "code",
      "metadata": {
        "id": "K38Y8DNFyVIB",
        "colab_type": "code",
        "colab": {}
      },
      "source": [
        "model_mulNB = model_mulNB = Pipeline([('tfidf', TfidfTransformer()),\n",
        "                                      ('chi', SelectKBest(chi2, k=1000)),\n",
        "                                       ('Multinomial', MultinomialNB())])"
      ],
      "execution_count": 0,
      "outputs": []
    },
    {
      "cell_type": "code",
      "metadata": {
        "id": "4r6rRC5HzeTi",
        "colab_type": "code",
        "colab": {}
      },
      "source": [
        "classifier = SklearnClassifier(model_mulNB)"
      ],
      "execution_count": 0,
      "outputs": []
    },
    {
      "cell_type": "code",
      "metadata": {
        "id": "6neIpdN2zpP-",
        "colab_type": "code",
        "outputId": "ab230482-f503-4c50-9225-2db592469ef8",
        "colab": {
          "base_uri": "https://localhost:8080/",
          "height": 191
        }
      },
      "source": [
        "classifier.train(train_data)"
      ],
      "execution_count": 0,
      "outputs": [
        {
          "output_type": "execute_result",
          "data": {
            "text/plain": [
              "<SklearnClassifier(Pipeline(memory=None,\n",
              "         steps=[('tfidf',\n",
              "                 TfidfTransformer(norm='l2', smooth_idf=True,\n",
              "                                  sublinear_tf=False, use_idf=True)),\n",
              "                ('chi',\n",
              "                 SelectKBest(k=1000,\n",
              "                             score_func=<function chi2 at 0x7fae755c6ea0>)),\n",
              "                ('Multinomial',\n",
              "                 MultinomialNB(alpha=1.0, class_prior=None, fit_prior=True))],\n",
              "         verbose=False))>"
            ]
          },
          "metadata": {
            "tags": []
          },
          "execution_count": 64
        }
      ]
    },
    {
      "cell_type": "code",
      "metadata": {
        "id": "W78bDfbaz5nn",
        "colab_type": "code",
        "colab": {}
      },
      "source": [
        "accuracy = nltk.classify.accuracy(classifier, test_data)*100"
      ],
      "execution_count": 0,
      "outputs": []
    },
    {
      "cell_type": "code",
      "metadata": {
        "id": "gQEr0rcH0AJh",
        "colab_type": "code",
        "outputId": "8bd92e48-6dcf-4ab6-df5c-36f253e783b8",
        "colab": {
          "base_uri": "https://localhost:8080/",
          "height": 35
        }
      },
      "source": [
        "accuracy"
      ],
      "execution_count": 0,
      "outputs": [
        {
          "output_type": "execute_result",
          "data": {
            "text/plain": [
              "82.39999999999999"
            ]
          },
          "metadata": {
            "tags": []
          },
          "execution_count": 66
        }
      ]
    },
    {
      "cell_type": "code",
      "metadata": {
        "id": "lmhMDJ-y0HVn",
        "colab_type": "code",
        "colab": {}
      },
      "source": [
        "classification = classifier.classify((getVectors(wordFeatures, comment)))"
      ],
      "execution_count": 0,
      "outputs": []
    },
    {
      "cell_type": "code",
      "metadata": {
        "id": "YbFOnac50hOs",
        "colab_type": "code",
        "outputId": "e012ecce-d7e4-456a-d705-57556d3b946e",
        "colab": {
          "base_uri": "https://localhost:8080/",
          "height": 35
        }
      },
      "source": [
        "classification"
      ],
      "execution_count": 0,
      "outputs": [
        {
          "output_type": "execute_result",
          "data": {
            "text/plain": [
              "'neg'"
            ]
          },
          "metadata": {
            "tags": []
          },
          "execution_count": 68
        }
      ]
    }
  ]
}